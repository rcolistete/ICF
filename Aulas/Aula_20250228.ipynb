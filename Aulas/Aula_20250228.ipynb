{
 "cells": [
  {
   "cell_type": "markdown",
   "id": "3f33b40b-ce64-482e-9252-683e79d5119f",
   "metadata": {},
   "source": [
    "# <div style=\"text-align:center; color:blue\">Aula de 28/02/2025</div>\n",
    "## <div style=\"text-align:center\">Disciplina <a href=\"https://github.com/rcolistete/ICF\">\"Introdução à Computação em Física\" (ICF)</a> da UFES/Alegre</div>\n",
    "## <div style=\"text-align:center; color:red\">Curso de Licenciatura em Física - 2024/2</div>\n",
    "### <center>Autoria : Prof. [Roberto Colistete Jr.](https://github.com/rcolistete), em 02/2025</center>"
   ]
  },
  {
   "cell_type": "markdown",
   "id": "5ad51da4-4dde-4553-89bb-cdea062b8d7e",
   "metadata": {
    "jp-MarkdownHeadingCollapsed": true
   },
   "source": [
    "## Comandos \"Mágicos\" em IPython e documentos Jupyter Notebook com Python"
   ]
  },
  {
   "cell_type": "markdown",
   "id": "1d4ba6a7-0d02-4cf4-a8c3-56532c6481bc",
   "metadata": {},
   "source": [
    "Ao rodar Python em documentos Jupyter Notebook, ou IPython (em modo terminal), temos os [comandos mágicos (magic commands)](https://ipython.readthedocs.io/en/stable/interactive/magics.html) que são muito úteis."
   ]
  },
  {
   "cell_type": "markdown",
   "id": "a575952f-79fa-49c3-96ee-a8aee7f39b44",
   "metadata": {},
   "source": [
    "Documentação sobre comandos mágicos :"
   ]
  },
  {
   "cell_type": "code",
   "execution_count": null,
   "id": "408162e4-d12e-4c5e-86f0-820c2772920a",
   "metadata": {
    "scrolled": true
   },
   "outputs": [],
   "source": [
    "%magic"
   ]
  },
  {
   "cell_type": "markdown",
   "id": "edadcef3-2670-4620-9dd8-bdb1e4e98e0a",
   "metadata": {},
   "source": [
    "Documentação simplificada sobre comandos mágicos :"
   ]
  },
  {
   "cell_type": "code",
   "execution_count": null,
   "id": "c6c200c4-9899-43c1-a324-4c852eff44fb",
   "metadata": {},
   "outputs": [],
   "source": [
    "%quickref"
   ]
  },
  {
   "cell_type": "markdown",
   "id": "a3aa20a4-fd14-437a-9729-59a2bf58eee8",
   "metadata": {},
   "source": [
    "Lista de todos os comandos mágicos, os para linha (line) precisam ter \"%\" antes, os para células (cells) precisam ter \"%%\" antes :"
   ]
  },
  {
   "cell_type": "code",
   "execution_count": null,
   "id": "55ef941a-6a4e-4b9a-a34e-5a5ae02da6d4",
   "metadata": {},
   "outputs": [],
   "source": [
    "%lsmagic"
   ]
  },
  {
   "cell_type": "markdown",
   "id": "a8b56253-c4a7-465b-9836-7ebc2b0c0577",
   "metadata": {},
   "source": [
    "Documentação de comando mágico específico, basta adicionar \"?\" :"
   ]
  },
  {
   "cell_type": "code",
   "execution_count": null,
   "id": "990f7a76-f467-41ac-8637-249a269cb6b6",
   "metadata": {},
   "outputs": [],
   "source": [
    "%time?"
   ]
  },
  {
   "cell_type": "markdown",
   "id": "72a8ce0b-7c11-47e8-83e6-84a61849812c",
   "metadata": {},
   "source": [
    "Medindo tempo de execução de uma expressão Python via comando mágico \"%time\" (para linha/expressão) ou \"%%time\" (para célula) :"
   ]
  },
  {
   "cell_type": "code",
   "execution_count": null,
   "id": "6397cb0c-516f-47a5-bdb2-e3982e5038ee",
   "metadata": {},
   "outputs": [],
   "source": [
    "import math"
   ]
  },
  {
   "cell_type": "code",
   "execution_count": null,
   "id": "e400d169-3fc9-4efd-a32d-f9b68a090691",
   "metadata": {},
   "outputs": [],
   "source": [
    "%time for n in range(1000000): math.sin(math.pi*(n/1000000.))"
   ]
  },
  {
   "cell_type": "code",
   "execution_count": null,
   "id": "4ac91cdd",
   "metadata": {},
   "outputs": [],
   "source": [
    "%%time\n",
    "for n in range(1000000):\n",
    "    math.sin(math.pi*(n/1000000.))"
   ]
  },
  {
   "cell_type": "markdown",
   "id": "abd27dd1-1106-454d-bdc7-2438eca63f22",
   "metadata": {},
   "source": [
    "**Exercício** : altere o número de repetições e veja como varia o tempo de execução do loop :"
   ]
  },
  {
   "cell_type": "code",
   "execution_count": null,
   "id": "33a7600e-2254-4cad-a1e3-086681c815a1",
   "metadata": {},
   "outputs": [],
   "source": []
  },
  {
   "cell_type": "code",
   "execution_count": null,
   "id": "bde8e037-35d8-4179-83a7-5c2fc27d1e06",
   "metadata": {},
   "outputs": [],
   "source": []
  },
  {
   "cell_type": "markdown",
   "id": "b6394937-353a-441b-b4c4-30ae0d6665cf",
   "metadata": {},
   "source": [
    "Medindo tempo de execução, com maior precisão, de uma expressão Python via comando mágico \"%%timeit\", que repete N vezes a execução para calcular o tempo médio de execução e ter maior precisão :"
   ]
  },
  {
   "cell_type": "code",
   "execution_count": null,
   "id": "5bf073ad-6f1a-4966-8b93-3aaa3494d2ce",
   "metadata": {},
   "outputs": [],
   "source": [
    "%%timeit?"
   ]
  },
  {
   "cell_type": "code",
   "execution_count": null,
   "id": "eeff0120-dff8-484a-aa08-493e0246e35a",
   "metadata": {},
   "outputs": [],
   "source": [
    "%timeit for n in range(1000000): math.sin(math.pi*(n/1000000.))"
   ]
  },
  {
   "cell_type": "code",
   "execution_count": null,
   "id": "d999e58b-956e-43b9-a534-2883acd442cb",
   "metadata": {},
   "outputs": [],
   "source": [
    "%%timeit\n",
    "for n in range(1000000):\n",
    "    math.sin(math.pi*(n/1000000.))"
   ]
  },
  {
   "cell_type": "markdown",
   "id": "e5f0fb3d-cf5b-4586-9e37-baa35d88aaca",
   "metadata": {},
   "source": [
    "**Exercício** : altere o número de repetições e veja como varia o tempo de execução do loop :"
   ]
  },
  {
   "cell_type": "code",
   "execution_count": null,
   "id": "0538a921-4366-4ef0-8608-a9e685be293b",
   "metadata": {},
   "outputs": [],
   "source": []
  },
  {
   "cell_type": "code",
   "execution_count": null,
   "id": "8762b6e0-35a3-4570-9c87-e6f00169f419",
   "metadata": {},
   "outputs": [],
   "source": []
  },
  {
   "cell_type": "markdown",
   "id": "829baa8a-2cbd-42da-b24d-26e8ad7f22eb",
   "metadata": {},
   "source": [
    "Uso de arquivos e diretórios via comandos mágicos :"
   ]
  },
  {
   "cell_type": "markdown",
   "id": "932a3f32-f543-4a15-b89b-9f110af33a52",
   "metadata": {},
   "source": [
    "Uso de arquivos e diretórios via comandos mágicos :"
   ]
  },
  {
   "cell_type": "code",
   "execution_count": null,
   "id": "2cc430ed-2178-464a-9dad-01712f8b7885",
   "metadata": {},
   "outputs": [],
   "source": [
    "%pwd"
   ]
  },
  {
   "cell_type": "code",
   "execution_count": null,
   "id": "74542c00-e920-4367-89f0-7993920af80d",
   "metadata": {},
   "outputs": [],
   "source": [
    "%ls -l"
   ]
  },
  {
   "cell_type": "code",
   "execution_count": null,
   "id": "683b1a3c-0df6-4784-be5c-1ac948bfc595",
   "metadata": {},
   "outputs": [],
   "source": [
    "%ls -l"
   ]
  },
  {
   "cell_type": "markdown",
   "id": "9513dcb0-7c24-49a1-9708-daf5d88d53bd",
   "metadata": {},
   "source": [
    "Mais exemplos de magic commands :\n",
    "- [Useful IPython magic commands - GeeksForGeeks](https://www.geeksforgeeks.org/useful-ipython-magic-commands/);\n",
    "- [Jupyter Notebook Magic Methods Cheat Sheet - KDnuggets](https://www.kdnuggets.com/wp-content/uploads/Jupyter_Notebook_Magic_Methods_Cheat_Sheet_KDnuggets.pdf)."
   ]
  },
  {
   "cell_type": "markdown",
   "id": "4a10c262-dd44-4dce-9ff6-40f74b850a9e",
   "metadata": {
    "jp-MarkdownHeadingCollapsed": true
   },
   "source": [
    "## NumPy (Numerical Python) "
   ]
  },
  {
   "cell_type": "markdown",
   "id": "5f515123-5b24-482c-91f5-ed36ae9d5629",
   "metadata": {},
   "source": [
    "O [módulo NumPy](https://numpy.org/) é o mais importante e mais usado para cálculos numéricos, desde simples até muito complexos, em uma ou N dimensões."
   ]
  },
  {
   "cell_type": "code",
   "execution_count": null,
   "id": "ff5852c4-d9cd-405b-ac82-be30c36c5f01",
   "metadata": {},
   "outputs": [],
   "source": [
    "import numpy as np"
   ]
  },
  {
   "cell_type": "code",
   "execution_count": null,
   "id": "1705ce2d-6d7d-4cf3-9b68-67dba694175f",
   "metadata": {
    "scrolled": true
   },
   "outputs": [],
   "source": [
    "help(np)"
   ]
  },
  {
   "cell_type": "code",
   "execution_count": null,
   "id": "a2aed84e-9dc3-44a5-8d96-69b0c24362ca",
   "metadata": {
    "scrolled": true
   },
   "outputs": [],
   "source": [
    "dir(np)"
   ]
  },
  {
   "cell_type": "markdown",
   "id": "7893a31a-f2c2-4633-a9d5-297e7cf83a8a",
   "metadata": {},
   "source": [
    "[Array](https://numpy.org/doc/stable/user/basics.creation.html) em NumPy é a estrutura básica de dados, para N dimensões, podendo conter somente valores numéricos."
   ]
  },
  {
   "cell_type": "code",
   "execution_count": null,
   "id": "6fe9839a-69c1-490b-9614-f8079813432d",
   "metadata": {},
   "outputs": [],
   "source": [
    "np.arange?"
   ]
  },
  {
   "cell_type": "code",
   "execution_count": null,
   "id": "10ac80c3-397e-4cc6-9a66-69d940c39309",
   "metadata": {},
   "outputs": [],
   "source": [
    "np.arange(10)"
   ]
  },
  {
   "cell_type": "code",
   "execution_count": null,
   "id": "1e7206d1-9510-419f-a489-518d6f1e78e8",
   "metadata": {},
   "outputs": [],
   "source": [
    "np.arange(4, 10, 2)"
   ]
  },
  {
   "cell_type": "code",
   "execution_count": null,
   "id": "a74a3d6f-4bba-47e5-8aeb-c164674a8457",
   "metadata": {},
   "outputs": [],
   "source": [
    "np.arange(4.2, 10.2, 1.2)"
   ]
  },
  {
   "cell_type": "markdown",
   "id": "1e5bbb9f-2422-4990-ae7e-e3c3b2171345",
   "metadata": {},
   "source": [
    "NumPy é bem mais rápido que Python puro para cálculos numéricos, porém é importante saber escrever código Python no estilo de NumPy, por exemplo, as funções em NumPy aceitam arrays, evitando loops e calculando muito mais rapidamente :"
   ]
  },
  {
   "cell_type": "code",
   "execution_count": null,
   "id": "3f442b60-48f3-4849-aab8-1cb3a8230b21",
   "metadata": {},
   "outputs": [],
   "source": [
    "%%time\n",
    "for n in np.arange(1000000):\n",
    "    np.sin(np.pi*(n/1000000.))"
   ]
  },
  {
   "cell_type": "code",
   "execution_count": null,
   "id": "33528d58-caf6-423c-876b-91c10fc332d2",
   "metadata": {},
   "outputs": [],
   "source": [
    "%time np.sin(np.pi*(np.arange(1000000)/1000000.));"
   ]
  },
  {
   "cell_type": "markdown",
   "id": "34d9b30c-6d40-4569-9fa2-7175a3ec53af",
   "metadata": {
    "jp-MarkdownHeadingCollapsed": true
   },
   "source": [
    "## MatPlotLib - módulo para gráficos"
   ]
  },
  {
   "cell_type": "markdown",
   "id": "a597cd37-b081-45c1-9b14-3935eb44008a",
   "metadata": {},
   "source": [
    "O [módulo MatPlotLib](https://matplotlib.org/) é um dos mais importantes e usados para criar gráficos em Python, de diversos tipos.\n",
    "\n",
    "Normalmente os dados para os gráficos são criados via arrays de NumPy."
   ]
  },
  {
   "cell_type": "code",
   "execution_count": null,
   "id": "86727caf-42f2-4a5b-ba3b-fcf77bbd2c14",
   "metadata": {},
   "outputs": [],
   "source": [
    "import matplotlib.pyplot as plt"
   ]
  },
  {
   "cell_type": "code",
   "execution_count": null,
   "id": "c6a7674f-5b15-4d1b-b34d-6ce5f44a953a",
   "metadata": {},
   "outputs": [],
   "source": [
    "t = np.arange(0.0, 10.0,0.5)"
   ]
  },
  {
   "cell_type": "code",
   "execution_count": null,
   "id": "e6473cf4-f268-44f3-850a-952d670105f1",
   "metadata": {},
   "outputs": [],
   "source": [
    "t"
   ]
  },
  {
   "cell_type": "code",
   "execution_count": null,
   "id": "115e2b39-1315-47b0-a897-3ae725def3bf",
   "metadata": {},
   "outputs": [],
   "source": [
    "x = 5.0 + 9.8*t"
   ]
  },
  {
   "cell_type": "code",
   "execution_count": null,
   "id": "a194cc54-69e0-4bc2-ac23-9f525ac6b599",
   "metadata": {},
   "outputs": [],
   "source": [
    "x"
   ]
  },
  {
   "cell_type": "code",
   "execution_count": null,
   "id": "1997b328-f238-467b-bf3c-c62283475b17",
   "metadata": {},
   "outputs": [],
   "source": [
    "plt.plot(t, x)\n",
    "plt.show()"
   ]
  },
  {
   "cell_type": "markdown",
   "id": "e6643d44-5114-4188-91f4-6082cffb0681",
   "metadata": {},
   "source": [
    "**Exercício** : use outra função matemática para $x$ e faça o gráfico"
   ]
  },
  {
   "cell_type": "code",
   "execution_count": null,
   "id": "88f91f83-dd10-4fd3-b6e3-0090c17a43b1",
   "metadata": {},
   "outputs": [],
   "source": []
  },
  {
   "cell_type": "code",
   "execution_count": null,
   "id": "312339bb-f7c3-41a3-85ac-79348fddc720",
   "metadata": {},
   "outputs": [],
   "source": []
  },
  {
   "cell_type": "code",
   "execution_count": null,
   "id": "de858ba6-59be-47ec-a8df-8d360957105e",
   "metadata": {},
   "outputs": [],
   "source": []
  },
  {
   "cell_type": "markdown",
   "id": "f1666c29-cb56-455d-92c5-c924604b675b",
   "metadata": {},
   "source": [
    "**Exercício** : use diferentes opções para o [`plot()` do MatPlotLib](https://matplotlib.org/stable/api/_as_gen/matplotlib.pyplot.plot.html#matplotlib.pyplot.plot), vide documentação."
   ]
  },
  {
   "cell_type": "code",
   "execution_count": null,
   "id": "74c36aac-b478-4886-8980-ef4cd4df2fa5",
   "metadata": {},
   "outputs": [],
   "source": []
  }
 ],
 "metadata": {
  "kernelspec": {
   "display_name": "Python 3 (ipykernel)",
   "language": "python",
   "name": "python3"
  },
  "language_info": {
   "codemirror_mode": {
    "name": "ipython",
    "version": 3
   },
   "file_extension": ".py",
   "mimetype": "text/x-python",
   "name": "python",
   "nbconvert_exporter": "python",
   "pygments_lexer": "ipython3",
   "version": "3.12.6"
  },
  "toc-autonumbering": false,
  "toc-showcode": false,
  "toc-showmarkdowntxt": false,
  "toc-showtags": false
 },
 "nbformat": 4,
 "nbformat_minor": 5
}
