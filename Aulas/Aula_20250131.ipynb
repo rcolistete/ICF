{
 "cells": [
  {
   "cell_type": "markdown",
   "id": "3f33b40b-ce64-482e-9252-683e79d5119f",
   "metadata": {},
   "source": [
    "# <div style=\"text-align:center; color:blue\">Aula de 31/01/2025</div>\n",
    "## <div style=\"text-align:center\">Disciplina <a href=\"https://github.com/rcolistete/ICF\">\"Introdução à Computação em Física\" (ICF)</a> da UFES/Alegre</div>\n",
    "## <div style=\"text-align:center; color:red\">Curso de Licenciatura em Física - 2024/2</div>\n",
    "### <center>Autoria : Prof. [Roberto Colistete Jr.](https://github.com/rcolistete), em 01/2025</center>"
   ]
  },
  {
   "cell_type": "markdown",
   "id": "712241b5-7c03-41f7-a9ca-fe41b51b2436",
   "metadata": {
    "jp-MarkdownHeadingCollapsed": true
   },
   "source": [
    "## Mais Estrutura de repetição `for` em Python"
   ]
  },
  {
   "cell_type": "markdown",
   "id": "28193042-b205-4dbe-9f51-6004b7b4c107",
   "metadata": {
    "jp-MarkdownHeadingCollapsed": true
   },
   "source": [
    "### Estrutura de repetição `for` somando números"
   ]
  },
  {
   "cell_type": "markdown",
   "id": "ac2ba16b-1f04-4978-986c-45e6d906fb6f",
   "metadata": {
    "jp-MarkdownHeadingCollapsed": true
   },
   "source": [
    "#### Somando os quadrados de números"
   ]
  },
  {
   "cell_type": "code",
   "execution_count": null,
   "id": "c7d8dc83-8c5f-419c-bf80-92e32694b514",
   "metadata": {},
   "outputs": [],
   "source": [
    "soma = 0;\n",
    "for i in range(1, 11):\n",
    "    soma += i**2\n",
    "print(soma)"
   ]
  },
  {
   "cell_type": "markdown",
   "id": "5412212c-283c-475b-a4e2-827ca40e67f5",
   "metadata": {
    "jp-MarkdownHeadingCollapsed": true
   },
   "source": [
    "#### Somando os produtos de 2 números via 2 estrutura de repetição `for` "
   ]
  },
  {
   "cell_type": "code",
   "execution_count": null,
   "id": "8a1bcb73-f466-4caa-abdf-f87a4820d251",
   "metadata": {},
   "outputs": [],
   "source": [
    "soma = 0;\n",
    "for i in range(1, 11):\n",
    "    for j in range(1, i):\n",
    "       soma += i*j\n",
    "print(soma)"
   ]
  },
  {
   "cell_type": "markdown",
   "id": "9179edda-20bb-412a-a41a-c58fe9d6cab4",
   "metadata": {
    "jp-MarkdownHeadingCollapsed": true
   },
   "source": [
    "### Testando se um número é quadrado perfeito (se a raíz quadrada é um número inteiro)"
   ]
  },
  {
   "cell_type": "code",
   "execution_count": null,
   "id": "fd4888ef-896c-4c93-bafc-9f5f488628ae",
   "metadata": {},
   "outputs": [],
   "source": [
    "v = 1936**0.5; v"
   ]
  },
  {
   "cell_type": "code",
   "execution_count": null,
   "id": "2d8ea2c2-2e45-49c5-9b5d-84f8d29f61d2",
   "metadata": {},
   "outputs": [],
   "source": [
    "int(v)"
   ]
  },
  {
   "cell_type": "code",
   "execution_count": null,
   "id": "c2cd40bd-d28a-4ea5-aca2-cd3d039ce083",
   "metadata": {},
   "outputs": [],
   "source": [
    "v/3"
   ]
  },
  {
   "cell_type": "code",
   "execution_count": null,
   "id": "7759ab9d-005d-41c4-9db9-e9a77c82f4e8",
   "metadata": {},
   "outputs": [],
   "source": [
    "int(v/3)"
   ]
  },
  {
   "cell_type": "markdown",
   "id": "30285dd8-8ca3-4e87-89cc-1c990778a81d",
   "metadata": {},
   "source": [
    "O [método (função de objetos) para números inteiros (int) e reais (float) `is_integer()`](https://docs.python.org/3/library/stdtypes.html#float.is_integer) retorna `True` se o número é inteiro ou a parte decimal do número real é nula :"
   ]
  },
  {
   "cell_type": "code",
   "execution_count": null,
   "id": "e4a16b26-c538-4aff-b9b7-324d44c4d3f7",
   "metadata": {},
   "outputs": [],
   "source": [
    "v.is_integer()"
   ]
  },
  {
   "cell_type": "code",
   "execution_count": null,
   "id": "9b0e8e7f-881f-4896-8620-0e7cd6e4bd75",
   "metadata": {},
   "outputs": [],
   "source": [
    "(v/3).is_integer()"
   ]
  },
  {
   "cell_type": "markdown",
   "id": "89be3b5f-7265-4194-9a2e-81fb0d25bf4c",
   "metadata": {
    "jp-MarkdownHeadingCollapsed": true
   },
   "source": [
    "### Estrutura de repetição `for` testando números quadrados perfeitos"
   ]
  },
  {
   "cell_type": "code",
   "execution_count": null,
   "id": "6ec8bcd8-4cd8-489f-9a1e-b90905f597d3",
   "metadata": {},
   "outputs": [],
   "source": [
    "for n in range(1000, 2000):\n",
    "    v = n**0.5\n",
    "    if v.is_integer():\n",
    "        print(n, \"é quadrado perfeito pois é igual ao inteiro\", int(v), \"ao quadrado\")"
   ]
  },
  {
   "cell_type": "markdown",
   "id": "71932e26-4d79-4c4a-9f00-e314ca352609",
   "metadata": {
    "jp-MarkdownHeadingCollapsed": true
   },
   "source": [
    "## Módulo SymPy com cálculos simbólicos, limites, derivadas, integrais, solução de equações e gráficos diversos"
   ]
  },
  {
   "cell_type": "code",
   "execution_count": null,
   "id": "890c1827-5e0a-4efa-bb4b-1690f8a1145c",
   "metadata": {},
   "outputs": [],
   "source": [
    "from sympy import *"
   ]
  },
  {
   "cell_type": "code",
   "execution_count": null,
   "id": "a082807e-b0c4-4bf4-9fbc-d78645608249",
   "metadata": {},
   "outputs": [],
   "source": [
    "from sympy import __version__"
   ]
  },
  {
   "cell_type": "code",
   "execution_count": null,
   "id": "3ad455f8-6c25-4ee1-a807-12dc2537dbc4",
   "metadata": {},
   "outputs": [],
   "source": [
    "print(__version__)"
   ]
  },
  {
   "cell_type": "markdown",
   "id": "186b58d0-960d-43d0-939a-250992a8d83e",
   "metadata": {
    "jp-MarkdownHeadingCollapsed": true
   },
   "source": [
    "### Exemplos usando [SymPy](https://www.sympy.org/en/index.html)"
   ]
  },
  {
   "cell_type": "code",
   "execution_count": null,
   "id": "0ca60187-2f02-4c47-8975-00a9e5f57e5e",
   "metadata": {},
   "outputs": [],
   "source": [
    "x, y, t = symbols('x y t')"
   ]
  },
  {
   "cell_type": "code",
   "execution_count": null,
   "id": "cd467cdd-f350-4d8d-a272-217a7c8b69b4",
   "metadata": {},
   "outputs": [],
   "source": [
    "x"
   ]
  },
  {
   "cell_type": "code",
   "execution_count": null,
   "id": "f90ec09a-6970-4a33-90d2-625293a8f6c8",
   "metadata": {
    "scrolled": true
   },
   "outputs": [],
   "source": [
    "?x"
   ]
  },
  {
   "cell_type": "code",
   "execution_count": null,
   "id": "8f89b097-2ec6-4a6b-a3c6-4e792b4b98aa",
   "metadata": {},
   "outputs": [],
   "source": [
    "(x + 2)**2"
   ]
  },
  {
   "cell_type": "code",
   "execution_count": null,
   "id": "a7595d2d-23d0-40da-8e59-42f2a480f755",
   "metadata": {},
   "outputs": [],
   "source": [
    "expand((x + 2)**2)"
   ]
  },
  {
   "cell_type": "code",
   "execution_count": null,
   "id": "646cfb7a-f418-47c3-95c0-6cc68cc3af29",
   "metadata": {},
   "outputs": [],
   "source": [
    "expand((x + 2)**12)"
   ]
  },
  {
   "cell_type": "code",
   "execution_count": null,
   "id": "8680454a-63e4-4d32-8ba3-97a243923c7c",
   "metadata": {},
   "outputs": [],
   "source": [
    "expand((x + y)**2)"
   ]
  },
  {
   "cell_type": "code",
   "execution_count": null,
   "id": "93094cfb-8f7b-4bea-a3d7-57690ad0503a",
   "metadata": {},
   "outputs": [],
   "source": [
    "expand((x + y)**12)"
   ]
  },
  {
   "cell_type": "markdown",
   "id": "49048d2e-dcc0-449d-b7cb-2760bf1b1e63",
   "metadata": {},
   "source": [
    "#### [Cálculo](https://docs.sympy.org/latest/tutorials/intro-tutorial/calculus.html)"
   ]
  },
  {
   "cell_type": "code",
   "execution_count": null,
   "id": "aaacc73f-9cf7-4ae8-9d1a-d54b66c025d0",
   "metadata": {},
   "outputs": [],
   "source": [
    "limit(sin(x)/x, x, 0)"
   ]
  },
  {
   "cell_type": "code",
   "execution_count": null,
   "id": "789e3127-c5d0-489c-b12e-026f1681fbda",
   "metadata": {},
   "outputs": [],
   "source": [
    "limit(1/x, x, 0, '+')"
   ]
  },
  {
   "cell_type": "code",
   "execution_count": null,
   "id": "0a1a15d4-0971-424a-9f18-c62318653b5b",
   "metadata": {},
   "outputs": [],
   "source": [
    "limit(1/x, x, 0, '-')"
   ]
  },
  {
   "cell_type": "code",
   "execution_count": null,
   "id": "03acece3-5945-4bac-9d03-1a25d261ec84",
   "metadata": {},
   "outputs": [],
   "source": [
    "diff(sin(x), x)"
   ]
  },
  {
   "cell_type": "code",
   "execution_count": null,
   "id": "88a7db34-de2b-4526-ab5e-a7954dd1adff",
   "metadata": {},
   "outputs": [],
   "source": [
    "diff(exp(42*x), x)"
   ]
  },
  {
   "cell_type": "code",
   "execution_count": null,
   "id": "31b555d1-5f21-4677-87ce-d4edaf487507",
   "metadata": {},
   "outputs": [],
   "source": [
    "Integral(cos(x), x)"
   ]
  },
  {
   "cell_type": "code",
   "execution_count": null,
   "id": "27976957-6999-4699-a7e1-2aa3a205c072",
   "metadata": {},
   "outputs": [],
   "source": [
    "integrate(cos(x), x)"
   ]
  },
  {
   "cell_type": "code",
   "execution_count": null,
   "id": "6a097fe8-878e-49ad-bd8f-09556bbf57cd",
   "metadata": {},
   "outputs": [],
   "source": [
    "Integral(cos(x), (x, 0, pi/2))"
   ]
  },
  {
   "cell_type": "code",
   "execution_count": null,
   "id": "1f940303-b5a7-4664-aa7e-464a70b70a6a",
   "metadata": {},
   "outputs": [],
   "source": [
    "integrate(cos(x), (x, 0, pi/2))"
   ]
  },
  {
   "cell_type": "code",
   "execution_count": null,
   "id": "ec1b3b32-90df-4b06-9a63-d7575795c8e5",
   "metadata": {},
   "outputs": [],
   "source": [
    "series(sin(x), x, 0, 10)"
   ]
  },
  {
   "cell_type": "code",
   "execution_count": null,
   "id": "6080b5d6-9d2b-4d3d-85f6-f20a0186250d",
   "metadata": {},
   "outputs": [],
   "source": [
    "solve(x**2 + 10*x + 1, x) "
   ]
  },
  {
   "cell_type": "markdown",
   "id": "0d840532-89d0-4a72-bb89-770078a4ec12",
   "metadata": {
    "jp-MarkdownHeadingCollapsed": true
   },
   "source": [
    "### Exemplos de Gráficos usando [SymPy Plotting](https://docs.sympy.org/latest/modules/plotting.html#)"
   ]
  },
  {
   "cell_type": "code",
   "execution_count": null,
   "id": "649126f0-e237-4473-ad9b-a709650306b9",
   "metadata": {},
   "outputs": [],
   "source": [
    "plot(sin(x),(x, 0, 10))"
   ]
  },
  {
   "cell_type": "code",
   "execution_count": null,
   "id": "b2867785-6b07-4731-b529-bbcd2dfba076",
   "metadata": {},
   "outputs": [],
   "source": [
    "plot(sin(x),(x, 0, 10));"
   ]
  },
  {
   "cell_type": "code",
   "execution_count": null,
   "id": "037ec6ed-cc68-4dc3-9413-2897eeca3955",
   "metadata": {},
   "outputs": [],
   "source": [
    "plot(2.5*exp(-1.0*t/2)*cos(pi*t), (t, 0, 10), \n",
    "     title=u'Oscilador amortecido', legend=True, \n",
    "     xlabel='t', ylabel='x(t)');"
   ]
  },
  {
   "cell_type": "code",
   "execution_count": null,
   "id": "e3e98418-b37f-4906-8f49-7becca2a4d6f",
   "metadata": {},
   "outputs": [],
   "source": [
    "plot_parametric(cos(4*t)*cos(t), cos(4*t)*sin(t), \n",
    "        (t, 0, 2*pi), \n",
    "        title=u'Rosácea em coordenadas polares');"
   ]
  },
  {
   "cell_type": "code",
   "execution_count": null,
   "id": "ffbd0132-461f-44f0-9a76-0dbfbf6c76ab",
   "metadata": {},
   "outputs": [],
   "source": [
    "plot_parametric(cos(5*t)*cos(t), cos(5*t)*sin(t), \n",
    "        (t, 0, 2*pi), \n",
    "        title=u'Rosácea em coordenadas polares');"
   ]
  },
  {
   "cell_type": "code",
   "execution_count": null,
   "id": "f255299c-5078-4b64-9b82-e3a31a0285bc",
   "metadata": {},
   "outputs": [],
   "source": [
    "from sympy.plotting import plot3d"
   ]
  },
  {
   "cell_type": "code",
   "execution_count": null,
   "id": "7fb8695c-eed9-4add-aa01-4a2a1ae6c838",
   "metadata": {},
   "outputs": [],
   "source": [
    "plot3d(5*x*y*exp(-x**2-y**2), (x, -2, 2), (y, -2, 2));"
   ]
  },
  {
   "cell_type": "code",
   "execution_count": null,
   "id": "9524e96b-84a3-42b6-8a64-88dd22c4838e",
   "metadata": {},
   "outputs": [],
   "source": [
    "plot3d(5*x*y*exp(-x**2-y**2), (x, -2, 2), (y, -2, 2),\n",
    "       title=u'Superfície colorida', \n",
    "       xlabel='x', ylabel='y');"
   ]
  },
  {
   "cell_type": "code",
   "execution_count": null,
   "id": "d755825e-656b-487b-a006-1288a487aa86",
   "metadata": {},
   "outputs": [],
   "source": [
    "from sympy.plotting import plot3d_parametric_line"
   ]
  },
  {
   "cell_type": "code",
   "execution_count": null,
   "id": "04f74c2a-8a6f-4393-8be6-67eafb4fcda6",
   "metadata": {},
   "outputs": [],
   "source": [
    "wire3D = plot3d_parametric_line((2+cos(16*t))*cos(t),\n",
    "                                (2+cos(16*t))*sin(t), sin(16*t), \n",
    "                                (t,0,2*pi), title='Wire 3D curve', \n",
    "                                xlabel='x', ylabel='y');"
   ]
  },
  {
   "cell_type": "markdown",
   "id": "12bb9557-c4c8-4211-994e-1176c0a146d7",
   "metadata": {
    "editable": true,
    "jp-MarkdownHeadingCollapsed": true,
    "slideshow": {
     "slide_type": "slide"
    },
    "tags": []
   },
   "source": [
    "## Uso de `plot()` de [SymPy Plotting](https://docs.sympy.org/latest/modules/plotting.html#) em Cinemática (Lançamento de Projétil) em 2D"
   ]
  },
  {
   "cell_type": "markdown",
   "id": "78d4e25a-f930-4298-948d-7748a0772d32",
   "metadata": {
    "editable": true,
    "slideshow": {
     "slide_type": "fragment"
    },
    "tags": []
   },
   "source": [
    "O lançamento de projétil é abordado no livro-texto de Física (Mecânica) e em aulas, assumindo aceleração constante da gravidade $\\vec{g}$ apontada para baixo (com convenção de escalar $g$ negativo), velocidade inicial $\\vec{v_0}$ com módulo $v_0$ e ângulo $\\theta$ em relação à horizontal."
   ]
  },
  {
   "cell_type": "markdown",
   "id": "d790fa80-d4da-435b-a1de-641d2574e711",
   "metadata": {
    "editable": true,
    "slideshow": {
     "slide_type": "fragment"
    },
    "tags": []
   },
   "source": [
    "Foram obtidos então tempo de voo máximo/total $t_M(v_0, \\theta, g)$, alcance (horizontal) $R(v_0, \\theta, g)$, altitude máxima $H(v_0, \\theta, g)$ e trajetória $y(x, v_0, \\theta, g)$."
   ]
  },
  {
   "cell_type": "markdown",
   "id": "14285b76-baaf-4247-ad0e-baf393c1aa60",
   "metadata": {
    "editable": true,
    "slideshow": {
     "slide_type": "subslide"
    },
    "tags": []
   },
   "source": [
    "Nesse documento fazemos análise numérica e gráfica dos resultados do lançamento de projétil, usando função gráfica simples `plot()` do [submódulo Plotting](https://docs.sympy.org/latest/modules/plotting.html#) do [módulo SymPy](https://www.sympy.org/en/index.html) da linguagem de programação [Python](https://www.python.org/)."
   ]
  },
  {
   "cell_type": "markdown",
   "id": "63b86a01-1457-42f5-bb26-8443afeee2cd",
   "metadata": {
    "editable": true,
    "slideshow": {
     "slide_type": "fragment"
    },
    "tags": []
   },
   "source": [
    "O objetivo desse documento é :\n",
    "* permitir melhor compreensão da cinemática de lançamento de projétil via análise gráfica;\n",
    "* exemplificar uso de programação Python e comandos gráficos simples em Python para visualizar funções matemáticas de uma variável (independente)."
   ]
  },
  {
   "cell_type": "markdown",
   "id": "c6d241b9-476c-40e1-b1c4-e5ec940acd3b",
   "metadata": {
    "editable": true,
    "jp-MarkdownHeadingCollapsed": true,
    "slideshow": {
     "slide_type": "subslide"
    },
    "tags": []
   },
   "source": [
    "#### Inicialização"
   ]
  },
  {
   "cell_type": "markdown",
   "id": "f9b7354a-3069-4845-9627-e92d909b9d17",
   "metadata": {
    "editable": true,
    "slideshow": {
     "slide_type": "fragment"
    },
    "tags": []
   },
   "source": [
    "Importando o módulo SymPy da forma mais prática, no contexto global, que automaticamente carrega parte das funções do submódulo `SymPy.Plotting` :"
   ]
  },
  {
   "cell_type": "code",
   "execution_count": null,
   "id": "20c44acf-4493-4aed-bd64-29f57de44b31",
   "metadata": {
    "editable": true,
    "slideshow": {
     "slide_type": "fragment"
    },
    "tags": []
   },
   "outputs": [],
   "source": [
    "from sympy import *"
   ]
  },
  {
   "cell_type": "markdown",
   "id": "37a1fc38-d356-470d-8961-98806d40181d",
   "metadata": {
    "editable": true,
    "slideshow": {
     "slide_type": "fragment"
    },
    "tags": []
   },
   "source": [
    "Definindo como símbolos as variáveis independentes que serão usadas nos gráficos, pois as funções gráficas do submódulo `SymPy.Plotting` exigem isso :"
   ]
  },
  {
   "cell_type": "code",
   "execution_count": null,
   "id": "b74b76b7-2dd2-4206-bc95-5df8355431ff",
   "metadata": {
    "editable": true,
    "slideshow": {
     "slide_type": "fragment"
    },
    "tags": []
   },
   "outputs": [],
   "source": [
    "x, v0, theta, g = symbols(\"x, v0, theta, g\")"
   ]
  },
  {
   "cell_type": "markdown",
   "id": "a9a794d6-79e7-4e17-a49b-dc8756c85026",
   "metadata": {
    "editable": true,
    "slideshow": {
     "slide_type": "fragment"
    },
    "tags": []
   },
   "source": [
    "Definindo numericamente os valores constantes de $v_0$ (m/s), $\\theta$ (em radianos) e $g$ (em $m/s^2$, com valor aproximado para Alegre-ES, com convenção de valor negativo), tal que só precisa alterar em um lugar no código-fonte Python :"
   ]
  },
  {
   "cell_type": "code",
   "execution_count": null,
   "id": "b7c1c9fa-d409-4d8f-84d8-2ae3fefd5a7d",
   "metadata": {
    "editable": true,
    "slideshow": {
     "slide_type": "fragment"
    },
    "tags": []
   },
   "outputs": [],
   "source": [
    "nv0 = 300; ntheta = pi/6; ng = -9.786"
   ]
  },
  {
   "cell_type": "markdown",
   "id": "cabb095f-1cf6-479e-b848-8400672d5593",
   "metadata": {
    "editable": true,
    "jp-MarkdownHeadingCollapsed": true,
    "slideshow": {
     "slide_type": "slide"
    },
    "tags": []
   },
   "source": [
    "### Tempo de Voo $t_M$"
   ]
  },
  {
   "cell_type": "markdown",
   "id": "fc402a16-7d5d-44f0-b581-fd1290833623",
   "metadata": {
    "editable": true,
    "slideshow": {
     "slide_type": "fragment"
    },
    "tags": []
   },
   "source": [
    "O tempo de voo máximo/total $t_M$ do lançamento de projétil foi calculado antes, o sinal negativo é porque adotados escalar $g$ negativo :"
   ]
  },
  {
   "cell_type": "markdown",
   "id": "ee54c166-e900-4c66-9a93-5db80963b707",
   "metadata": {
    "editable": true,
    "slideshow": {
     "slide_type": "fragment"
    },
    "tags": []
   },
   "source": [
    "$$ t_M = - \\frac{{v_0} \\left(\\sin{\\theta}\\right)}{g} $$"
   ]
  },
  {
   "cell_type": "code",
   "execution_count": null,
   "id": "f9d6f9ea-3a8d-479c-8ac6-522105f1438b",
   "metadata": {
    "editable": true,
    "slideshow": {
     "slide_type": "fragment"
    },
    "tags": []
   },
   "outputs": [],
   "source": [
    "def tempovoo(velocidade, angulo, gravidade):\n",
    "    return - (((velocidade))*(sin(angulo)))/(gravidade)"
   ]
  },
  {
   "cell_type": "code",
   "execution_count": null,
   "id": "d6a86ba9-35ec-4cbd-ab05-f31fb71d1c1c",
   "metadata": {
    "editable": true,
    "slideshow": {
     "slide_type": "fragment"
    },
    "tags": []
   },
   "outputs": [],
   "source": [
    "tempovoo(v0, theta, g)"
   ]
  },
  {
   "cell_type": "markdown",
   "id": "7bea50f8-6847-4633-97dc-1ec2d7a2f680",
   "metadata": {
    "editable": true,
    "slideshow": {
     "slide_type": "fragment"
    },
    "tags": []
   },
   "source": [
    "O tempo de voo é dado em segundos (s) ao usar os outros parêmetros $v_0$ e $g$ em unidades do SI :"
   ]
  },
  {
   "cell_type": "code",
   "execution_count": null,
   "id": "6d862ef1-b9b6-455b-8e7a-75b52dfb6cee",
   "metadata": {
    "editable": true,
    "slideshow": {
     "slide_type": "fragment"
    },
    "tags": []
   },
   "outputs": [],
   "source": [
    "tempovoo(nv0, ntheta, ng)"
   ]
  },
  {
   "cell_type": "markdown",
   "id": "8e2756b8-46d0-4025-8e96-bfde36641add",
   "metadata": {
    "editable": true,
    "jp-MarkdownHeadingCollapsed": true,
    "slideshow": {
     "slide_type": "subslide"
    },
    "tags": []
   },
   "source": [
    "#### Gráfico de $t_M(\\theta) \\times \\theta$ fixando $v_0$ e $g$"
   ]
  },
  {
   "cell_type": "code",
   "execution_count": null,
   "id": "6dc12425-94dd-4d18-879d-01ae9f6bca62",
   "metadata": {
    "editable": true,
    "slideshow": {
     "slide_type": "fragment"
    },
    "tags": []
   },
   "outputs": [],
   "source": [
    "plot(tempovoo(nv0, theta, ng), (theta, 0, pi/2), \n",
    "     title=\"Tempo de Voo $t_M$ x ângulo $\\\\theta$\", \n",
    "     xlabel=\"$\\\\theta\\,(\\\\text{rad})$\", ylabel=\"$t_M\\,(s)$\");"
   ]
  },
  {
   "cell_type": "markdown",
   "id": "114fc593-77fb-4421-844c-948da5bd13c5",
   "metadata": {
    "editable": true,
    "jp-MarkdownHeadingCollapsed": true,
    "slideshow": {
     "slide_type": "subslide"
    },
    "tags": []
   },
   "source": [
    "#### Gráfico de $t_M(v_0) \\times v_0$ fixando $\\theta$ e $g$"
   ]
  },
  {
   "cell_type": "code",
   "execution_count": null,
   "id": "9d619ebf-38e5-437d-8206-d62f13aa91ef",
   "metadata": {
    "editable": true,
    "slideshow": {
     "slide_type": "fragment"
    },
    "tags": []
   },
   "outputs": [],
   "source": [
    "plot(tempovoo(v0, ntheta, ng), (v0, 0, 3*nv0), \n",
    "     title=\"Tempo de Voo $t_M$ x Velocidade inicial $v_0$\", \n",
    "     xlabel=\"$v_0\\,(m/s)$\", ylabel=\"$t_M\\,(s)$\");"
   ]
  },
  {
   "cell_type": "markdown",
   "id": "5b7a33e0-165b-4597-aa24-a67203364af4",
   "metadata": {
    "editable": true,
    "jp-MarkdownHeadingCollapsed": true,
    "slideshow": {
     "slide_type": "subslide"
    },
    "tags": []
   },
   "source": [
    "#### Gráfico de $t_M(g) \\times g$ fixando $\\theta$ e $v_0$"
   ]
  },
  {
   "cell_type": "code",
   "execution_count": null,
   "id": "918b4af3-38c6-4608-9107-28656ab3ad98",
   "metadata": {
    "editable": true,
    "slideshow": {
     "slide_type": "fragment"
    },
    "tags": []
   },
   "outputs": [],
   "source": [
    "plot(tempovoo(nv0, ntheta, -g), (g, 0.1, -2*ng), \n",
    "     title=\"Tempo de Voo $t_M$ x gravidade $(-g)$\", \n",
    "     xlabel=\"$-\\,g\\,(m/s^2)$\", ylabel=\"$t_M\\,(s)$\",\n",
    "     ylim=(0, 200));"
   ]
  },
  {
   "cell_type": "markdown",
   "id": "21c5cb70-723e-4536-a4dd-ac942b3a75a6",
   "metadata": {
    "editable": true,
    "jp-MarkdownHeadingCollapsed": true,
    "slideshow": {
     "slide_type": "slide"
    },
    "tags": []
   },
   "source": [
    "### Alcance (Horizontal) $R$"
   ]
  },
  {
   "cell_type": "markdown",
   "id": "d2043c81-1423-476a-aeb5-9e31b7733110",
   "metadata": {
    "editable": true,
    "slideshow": {
     "slide_type": "fragment"
    },
    "tags": []
   },
   "source": [
    "O alcance (horizontal) $R$ do lançamento de projétil foi calculado antes, o sinal negativo é porque adotados escalar $g$ negativo :"
   ]
  },
  {
   "cell_type": "markdown",
   "id": "2279e042-db1f-4c7c-83cb-79aa53dbc6a8",
   "metadata": {
    "editable": true,
    "slideshow": {
     "slide_type": "fragment"
    },
    "tags": []
   },
   "source": [
    "$$ R = - \\frac{{v_0}^2 \\left(\\sin{2\\theta}\\right)}{g} $$"
   ]
  },
  {
   "cell_type": "code",
   "execution_count": null,
   "id": "549f41d7-c3cd-4d8b-9223-c6bde121a380",
   "metadata": {
    "editable": true,
    "slideshow": {
     "slide_type": "fragment"
    },
    "tags": []
   },
   "outputs": [],
   "source": [
    "def alcance(velocidade, angulo, gravidade):\n",
    "    return - (((velocidade)**2)*(sin(2*angulo)))/(gravidade)"
   ]
  },
  {
   "cell_type": "code",
   "execution_count": null,
   "id": "1027b7b0-aec6-41d9-95d3-82863b1593ad",
   "metadata": {
    "editable": true,
    "slideshow": {
     "slide_type": "fragment"
    },
    "tags": []
   },
   "outputs": [],
   "source": [
    "alcance(v0, theta, g)"
   ]
  },
  {
   "cell_type": "markdown",
   "id": "9dd7469b-1cce-4e6a-9c77-e0b2bb0174e3",
   "metadata": {
    "editable": true,
    "slideshow": {
     "slide_type": "fragment"
    },
    "tags": []
   },
   "source": [
    "O alcance é dado em metros (m) ao usar os outros parêmetros $v_0$ e $g$ em unidades do SI :"
   ]
  },
  {
   "cell_type": "code",
   "execution_count": null,
   "id": "b2c3df03-ab2f-4f5b-92ba-9d30f283db61",
   "metadata": {
    "editable": true,
    "slideshow": {
     "slide_type": "fragment"
    },
    "tags": []
   },
   "outputs": [],
   "source": [
    "alcance(nv0, ntheta, ng)"
   ]
  },
  {
   "cell_type": "code",
   "execution_count": null,
   "id": "a0b425da-35c3-4d04-b3ab-5eaa7878d942",
   "metadata": {
    "editable": true,
    "slideshow": {
     "slide_type": "fragment"
    },
    "tags": []
   },
   "outputs": [],
   "source": [
    "N(alcance(nv0, ntheta, ng))"
   ]
  },
  {
   "cell_type": "markdown",
   "id": "8e1e0737-c789-460a-b9e5-6c4809ac5ff6",
   "metadata": {
    "editable": true,
    "jp-MarkdownHeadingCollapsed": true,
    "slideshow": {
     "slide_type": "subslide"
    },
    "tags": []
   },
   "source": [
    "#### Gráfico de $R(\\theta) \\times \\theta$ fixando $v_0$ e $g$"
   ]
  },
  {
   "cell_type": "code",
   "execution_count": null,
   "id": "9b948f42-de69-48d1-9a74-76932731aca7",
   "metadata": {
    "editable": true,
    "slideshow": {
     "slide_type": "fragment"
    },
    "tags": []
   },
   "outputs": [],
   "source": [
    "plot(alcance(nv0, theta, ng), (theta, 0, pi/2), \n",
    "     title=\"Alcance $R$ x ângulo $\\\\theta$\", \n",
    "     xlabel=\"$\\\\theta\\,(\\\\text{rad})$\", ylabel=\"$R\\,(m)$\");"
   ]
  },
  {
   "cell_type": "markdown",
   "id": "dfaf2aa2-2590-4ba4-89ee-c755639c763f",
   "metadata": {
    "editable": true,
    "jp-MarkdownHeadingCollapsed": true,
    "slideshow": {
     "slide_type": "subslide"
    },
    "tags": []
   },
   "source": [
    "#### Gráfico de $R(v_0) \\times v_0$ fixando $\\theta$ e $g$"
   ]
  },
  {
   "cell_type": "code",
   "execution_count": null,
   "id": "087b39a2-683c-4e83-baa9-5d1553eac26b",
   "metadata": {
    "editable": true,
    "slideshow": {
     "slide_type": "fragment"
    },
    "tags": []
   },
   "outputs": [],
   "source": [
    "plot(alcance(v0, ntheta, ng), (v0, 0, 3*nv0), \n",
    "     title=\"Alcance $R$ x Velocidade inicial $v_0$\", \n",
    "     xlabel=\"$v_0\\,(m/s)$\", ylabel=\"$R\\,(m)$\");"
   ]
  },
  {
   "cell_type": "markdown",
   "id": "8dc26def-87df-418f-bc5e-86ae5450c230",
   "metadata": {
    "editable": true,
    "jp-MarkdownHeadingCollapsed": true,
    "slideshow": {
     "slide_type": "subslide"
    },
    "tags": []
   },
   "source": [
    "#### Gráfico de $R(g) \\times g$ fixando $\\theta$ e $v_0$"
   ]
  },
  {
   "cell_type": "code",
   "execution_count": null,
   "id": "4132b130-b26e-4be6-bf17-5b1c3fc9a5a3",
   "metadata": {
    "editable": true,
    "slideshow": {
     "slide_type": "fragment"
    },
    "tags": []
   },
   "outputs": [],
   "source": [
    "plot(alcance(nv0, ntheta, -g), (g, 0.1, -2*ng), \n",
    "     title=\"Alcance $R$ x gravidade $(-g)$\", \n",
    "     xlabel=\"$-\\,g\\,(m/s^2)$\", ylabel=\"$R\\,(m)$\",\n",
    "     ylim=(0, 60000));"
   ]
  },
  {
   "cell_type": "markdown",
   "id": "a35ca46c-9a37-48e2-9570-ca48a598bb39",
   "metadata": {
    "editable": true,
    "jp-MarkdownHeadingCollapsed": true,
    "slideshow": {
     "slide_type": "slide"
    },
    "tags": []
   },
   "source": [
    "### Altitude Máxima H"
   ]
  },
  {
   "cell_type": "markdown",
   "id": "7f26c5c6-9255-4cd1-a058-ff85768fe958",
   "metadata": {
    "editable": true,
    "slideshow": {
     "slide_type": "fragment"
    },
    "tags": []
   },
   "source": [
    "A altitude máxima $H$ do lançamento de projétil foi calculada antes, o sinal negativo é porque adotados escalar $g$ negativo :"
   ]
  },
  {
   "cell_type": "markdown",
   "id": "a484b9b6-eb93-4286-84ce-92af29c7ee41",
   "metadata": {
    "editable": true,
    "slideshow": {
     "slide_type": "fragment"
    },
    "tags": []
   },
   "source": [
    "$$ H = - \\frac{{v_0}^2 \\left(\\sin{\\theta}\\right)^2}{g} $$"
   ]
  },
  {
   "cell_type": "code",
   "execution_count": null,
   "id": "69c699e3-769f-4bbe-912c-c6ec23f2a997",
   "metadata": {
    "editable": true,
    "slideshow": {
     "slide_type": "fragment"
    },
    "tags": []
   },
   "outputs": [],
   "source": [
    "def altitude(velocidade, angulo, gravidade):\n",
    "    return - (((velocidade)**2)*(sin(angulo))**2)/(gravidade)"
   ]
  },
  {
   "cell_type": "code",
   "execution_count": null,
   "id": "595f9511-f6f4-48c4-84f5-60ba838b11f5",
   "metadata": {
    "editable": true,
    "slideshow": {
     "slide_type": "fragment"
    },
    "tags": []
   },
   "outputs": [],
   "source": [
    "altitude(v0, theta, g)"
   ]
  },
  {
   "cell_type": "markdown",
   "id": "68fb7b19-e139-4c5d-976c-00813aa0fef0",
   "metadata": {
    "editable": true,
    "slideshow": {
     "slide_type": "fragment"
    },
    "tags": []
   },
   "source": [
    "A altitude máxima é dada em metros (m) ao usar os outros parêmetros $v_0$ e $g$ em unidades do SI :"
   ]
  },
  {
   "cell_type": "code",
   "execution_count": null,
   "id": "fdc9664c-267f-4ea1-8ee5-df48ed4caf67",
   "metadata": {
    "editable": true,
    "slideshow": {
     "slide_type": "fragment"
    },
    "tags": []
   },
   "outputs": [],
   "source": [
    "altitude(nv0, ntheta, ng)"
   ]
  },
  {
   "cell_type": "markdown",
   "id": "96cd867b-1036-4f3e-a243-8ec1a1961874",
   "metadata": {
    "editable": true,
    "jp-MarkdownHeadingCollapsed": true,
    "slideshow": {
     "slide_type": "subslide"
    },
    "tags": []
   },
   "source": [
    "#### Gráfico de $H(\\theta) \\times \\theta$ fixando $v_0$ e $g$"
   ]
  },
  {
   "cell_type": "code",
   "execution_count": null,
   "id": "565020ca-8a29-4e6d-a599-c12d4493d2c7",
   "metadata": {
    "editable": true,
    "slideshow": {
     "slide_type": "fragment"
    },
    "tags": []
   },
   "outputs": [],
   "source": [
    "plot(altitude(nv0, theta, ng), (theta, 0, pi/2), \n",
    "     title=\"Altitude $H$ x ângulo $\\\\theta$\", \n",
    "     xlabel=\"$\\\\theta\\,(\\\\text{rad})$\", ylabel=\"$H\\,(m)$\");"
   ]
  },
  {
   "cell_type": "markdown",
   "id": "7326615c-60ee-4559-a01e-733c6d30d2c1",
   "metadata": {
    "editable": true,
    "jp-MarkdownHeadingCollapsed": true,
    "slideshow": {
     "slide_type": "subslide"
    },
    "tags": []
   },
   "source": [
    "#### Gráfico de $H(v_0) \\times v_0$ fixando $\\theta$ e $g$"
   ]
  },
  {
   "cell_type": "code",
   "execution_count": null,
   "id": "f4daf459-456a-4146-9685-5861c50c976a",
   "metadata": {
    "editable": true,
    "slideshow": {
     "slide_type": "fragment"
    },
    "tags": []
   },
   "outputs": [],
   "source": [
    "plot(altitude(v0, ntheta, ng), (v0, 0, 3*nv0), \n",
    "     title=\"Altitude $H$ x Velocidade inicial $v_0$\", \n",
    "     xlabel=\"$v_0\\,(m/s)$\", ylabel=\"$H\\,(m)$\");"
   ]
  },
  {
   "cell_type": "markdown",
   "id": "028d19d4-0dcf-49bc-a5a3-5a7aa63ef466",
   "metadata": {
    "editable": true,
    "jp-MarkdownHeadingCollapsed": true,
    "slideshow": {
     "slide_type": "subslide"
    },
    "tags": []
   },
   "source": [
    "#### Gráfico de $H(g) \\times g$ fixando $\\theta$ e $v_0$"
   ]
  },
  {
   "cell_type": "code",
   "execution_count": null,
   "id": "d68d361d-dad7-4463-aa79-d991e333f9c6",
   "metadata": {
    "editable": true,
    "slideshow": {
     "slide_type": "fragment"
    },
    "tags": []
   },
   "outputs": [],
   "source": [
    "plot(altitude(nv0, ntheta, -g), (g, 0.1, -2*ng), \n",
    "     title=\"Altitude $H$ x gravidade $(-g)$\", \n",
    "     xlabel=\"$-\\,g\\\\,(m/s^2)$\", ylabel=\"$H\\,(m)$\", \n",
    "     ylim=(0, 20000));"
   ]
  },
  {
   "cell_type": "markdown",
   "id": "db7c6cff-d62c-4a0f-85e1-e33720de857d",
   "metadata": {
    "editable": true,
    "jp-MarkdownHeadingCollapsed": true,
    "slideshow": {
     "slide_type": "slide"
    },
    "tags": []
   },
   "source": [
    "### Trajetória $y(x)$"
   ]
  },
  {
   "cell_type": "markdown",
   "id": "b194f41a-e426-41b1-b733-5eb623d339f8",
   "metadata": {
    "editable": true,
    "slideshow": {
     "slide_type": "fragment"
    },
    "tags": []
   },
   "source": [
    "A equação da trajetória $y(x) \\times x$ do lançamento de projétil foi calculada antes, mostrando ser uma parábola em relação a $x$ com concavidade para baixo (devido ao escalar $g$ ser negativo) e començando na origem $O$ :"
   ]
  },
  {
   "cell_type": "markdown",
   "id": "8f4fbdd9-0f52-4dcb-8611-c22bde0eea6d",
   "metadata": {
    "editable": true,
    "slideshow": {
     "slide_type": "fragment"
    },
    "tags": []
   },
   "source": [
    "$$ y = \\left(\\tan{\\theta}\\right)x + \\frac{g\\,x^2}{2{v_0}^2 \\left(\\cos{\\theta}\\right)^2} $$"
   ]
  },
  {
   "cell_type": "code",
   "execution_count": null,
   "id": "d09e66cf-a0fc-4008-8fc0-c88117c6ab55",
   "metadata": {
    "editable": true,
    "slideshow": {
     "slide_type": "fragment"
    },
    "tags": []
   },
   "outputs": [],
   "source": [
    "def y(x, velocidade, angulo, gravidade):\n",
    "    return tan(angulo)*x + (gravidade*x**2)/(2*((velocidade)**2)*(cos(angulo))**2)"
   ]
  },
  {
   "cell_type": "code",
   "execution_count": null,
   "id": "cb8b0a49-4797-4ab0-b280-eadc39b3dcef",
   "metadata": {
    "editable": true,
    "slideshow": {
     "slide_type": "fragment"
    },
    "tags": []
   },
   "outputs": [],
   "source": [
    "y(x, v0, theta, g)"
   ]
  },
  {
   "cell_type": "code",
   "execution_count": null,
   "id": "432e7b8e-fb8f-4138-b91c-d42c584d3bd7",
   "metadata": {
    "editable": true,
    "slideshow": {
     "slide_type": "fragment"
    },
    "tags": []
   },
   "outputs": [],
   "source": [
    "y(x, nv0, ntheta, ng)"
   ]
  },
  {
   "cell_type": "markdown",
   "id": "3f8d99d0-45ef-494e-8c85-3165d717fccd",
   "metadata": {
    "editable": true,
    "jp-MarkdownHeadingCollapsed": true,
    "slideshow": {
     "slide_type": "subslide"
    },
    "tags": []
   },
   "source": [
    "#### Gráfico da trajetória $y(x) \\times x$ fixando $\\theta$, $v_0$ e $g$"
   ]
  },
  {
   "cell_type": "code",
   "execution_count": null,
   "id": "7cda1cb7-8de4-4c8e-80f3-bfd30b46b861",
   "metadata": {
    "editable": true,
    "slideshow": {
     "slide_type": "fragment"
    },
    "tags": []
   },
   "outputs": [],
   "source": [
    "plot(y(x, nv0, ntheta, ng), (x, 0, alcance(nv0, ntheta, ng)), \n",
    "     title=\"Trajetória de Lançamento de Projétil\", \n",
    "     xlabel=\"$x(m)$\", ylabel=\"$y(m)$\");"
   ]
  },
  {
   "cell_type": "markdown",
   "id": "2f027de2-f0f9-40f6-a941-309867c87286",
   "metadata": {
    "editable": true,
    "slideshow": {
     "slide_type": "subslide"
    },
    "tags": []
   },
   "source": [
    "Opção `line_color` permite variar a cor de acordo com o parâmetro (cujo nome dentro da função 'lambda' não importa) independente do gráfico (no caso, $x$) :"
   ]
  },
  {
   "cell_type": "code",
   "execution_count": null,
   "id": "9670df25-c0d2-41f8-af58-c95b1ae5dc14",
   "metadata": {
    "editable": true,
    "slideshow": {
     "slide_type": "fragment"
    },
    "tags": []
   },
   "outputs": [],
   "source": [
    "plot(y(x, nv0, ntheta, ng), (x, 0, alcance(nv0, ntheta, ng)), \n",
    "     title=\"Trajetória de Lançamento de Projétil\", \n",
    "     xlabel=\"$x(m)$\", ylabel=\"$y(m)$\",\n",
    "     line_color=(lambda t: t));"
   ]
  },
  {
   "cell_type": "markdown",
   "id": "6a791030-76f7-4826-9c08-d8bf9d43e37c",
   "metadata": {
    "editable": true,
    "jp-MarkdownHeadingCollapsed": true,
    "slideshow": {
     "slide_type": "subslide"
    },
    "tags": []
   },
   "source": [
    "#### Gráficos sobrepostos com diferentes valores de $v_0$ da trajetória $y(x) \\times x$ fixando $\\theta$, $v_0$ e $g$"
   ]
  },
  {
   "cell_type": "markdown",
   "id": "80838a71-2305-445f-9d70-d73e18522cc4",
   "metadata": {
    "editable": true,
    "slideshow": {
     "slide_type": "fragment"
    },
    "tags": []
   },
   "source": [
    "Gráficos sobrepostos com diferentes domínios horizontais são simples de de serem feitos com o comando `plot()` do submódulo plotting do módulo SymPy :"
   ]
  },
  {
   "cell_type": "code",
   "execution_count": null,
   "id": "2645fa52",
   "metadata": {
    "editable": true,
    "slideshow": {
     "slide_type": "fragment"
    },
    "tags": []
   },
   "outputs": [],
   "source": [
    "plot((y(x, nv0, ntheta, ng), (x, 0, alcance(nv0, ntheta, ng))), \n",
    "     (y(x, 1.1*nv0, ntheta, ng), (x, 0, alcance(1.1*nv0, ntheta, ng))), \n",
    "     (y(x, 1.2*nv0, ntheta, ng), (x, 0, alcance(1.2*nv0, ntheta, ng))), \n",
    "     title=\"Trajetória de Lançamento de Projétil\", \n",
    "     xlabel=\"x(m)\", ylabel=\"y(m)\", legend=True);"
   ]
  },
  {
   "cell_type": "markdown",
   "id": "2fcebaa0-87be-4db3-b0dc-a1ae600a5343",
   "metadata": {
    "editable": true,
    "slideshow": {
     "slide_type": "subslide"
    },
    "tags": []
   },
   "source": [
    "Para personalizar os nomes nas legendas precisa usar \"label\" fora do comando `plot()` :"
   ]
  },
  {
   "cell_type": "code",
   "execution_count": null,
   "id": "dcf5b784",
   "metadata": {
    "editable": true,
    "slideshow": {
     "slide_type": "fragment"
    },
    "tags": []
   },
   "outputs": [],
   "source": [
    "p = plot((y(x, nv0, ntheta, ng), (x, 0, alcance(nv0, ntheta, ng))), \n",
    "     (y(x, 1.1*nv0, ntheta, ng), (x, 0, alcance(1.1*nv0, ntheta, ng))), \n",
    "     (y(x, 1.2*nv0, ntheta, ng), (x, 0, alcance(1.2*nv0, ntheta, ng))), \n",
    "     title=\"Trajetória de Lançamento de Projétil\", \n",
    "     xlabel=\"x(m)\", ylabel=\"y(m)\", show=False, legend=True);\n",
    "p[0].label = '$v_0 = $' + str(nv0) + ' $m/s$'\n",
    "p[1].label = '$v_0 = $' + str(int(1.1*nv0)) + ' $m/s$'\n",
    "p[2].label = '$v_0 = $' + str(int(1.2*nv0)) + ' $m/s$'\n",
    "p.show()"
   ]
  },
  {
   "cell_type": "markdown",
   "id": "8c8958b7-3362-4520-954e-0c8a00c79147",
   "metadata": {
    "editable": true,
    "slideshow": {
     "slide_type": "subslide"
    },
    "tags": []
   },
   "source": [
    "Personalizando as cores de cada trajetória via opção `line_color` :"
   ]
  },
  {
   "cell_type": "code",
   "execution_count": null,
   "id": "c3c7b72a",
   "metadata": {
    "editable": true,
    "slideshow": {
     "slide_type": "fragment"
    },
    "tags": []
   },
   "outputs": [],
   "source": [
    "p = plot((y(x, nv0, ntheta, ng), (x, 0, alcance(nv0, ntheta, ng))), \n",
    "     (y(x, 1.1*nv0, ntheta, ng), (x, 0, alcance(1.1*nv0, ntheta, ng))), \n",
    "     (y(x, 1.2*nv0, ntheta, ng), (x, 0, alcance(1.2*nv0, ntheta, ng))), \n",
    "     title=\"Trajetória de Lançamento de Projétil\", \n",
    "     xlabel=\"x(m)\", ylabel=\"y(m)\", show=False, legend=True);\n",
    "p[0].line_color = 'blue'\n",
    "p[1].line_color = 'green'\n",
    "p[2].line_color = 'red'\n",
    "p[0].label = '$v_0 = $' + str(nv0) + ' $m/s$'\n",
    "p[1].label = '$v_0 = $' + str(int(1.1*nv0)) + ' $m/s$'\n",
    "p[2].label = '$v_0 = $' + str(int(1.2*nv0)) + ' $m/s$'\n",
    "p.show()"
   ]
  },
  {
   "cell_type": "markdown",
   "id": "4974c92e-b24b-438b-9fd0-89491244b47b",
   "metadata": {
    "editable": true,
    "jp-MarkdownHeadingCollapsed": true,
    "slideshow": {
     "slide_type": "subslide"
    },
    "tags": []
   },
   "source": [
    "#### Gráficos sobrepostos com diferentes valores de $\\theta$ da trajetória $y(x) \\times x$ fixando $\\theta$, $v_0$ e $g$"
   ]
  },
  {
   "cell_type": "code",
   "execution_count": null,
   "id": "163ad4f9-1300-4bb8-9f09-746a4a560c4f",
   "metadata": {
    "editable": true,
    "slideshow": {
     "slide_type": "fragment"
    },
    "tags": []
   },
   "outputs": [],
   "source": [
    "p = plot((y(x, nv0, ntheta, ng), (x, 0, alcance(nv0, ntheta, ng))), \n",
    "     (y(x, nv0, 3*ntheta/2, ng), (x, 0, alcance(nv0, 3*ntheta/2, ng))), \n",
    "     (y(x, nv0, 2*ntheta, ng), (x, 0, alcance(nv0, 2*ntheta, ng))), \n",
    "     title=\"Trajetória de Lançamento de Projétil\", \n",
    "     xlabel=\"x(m)\", ylabel=\"y(m)\", show=False, legend=True);\n",
    "p[0].label = '$\\\\theta = $' + str(180*ntheta/pi) + ' graus'\n",
    "p[1].label = '$\\\\theta = $' + str(int(180*(3*ntheta/2)/pi)) + ' graus'\n",
    "p[2].label = '$\\\\theta = $' + str(int(180*(2*ntheta)/pi)) + ' graus'\n",
    "p.show()"
   ]
  },
  {
   "cell_type": "markdown",
   "id": "93c99a1f-324e-46c8-8bd0-2573c67769a6",
   "metadata": {
    "editable": true,
    "jp-MarkdownHeadingCollapsed": true,
    "slideshow": {
     "slide_type": "subslide"
    },
    "tags": []
   },
   "source": [
    "#### Gráficos sobrepostos com diferentes valores de $g$ da trajetória $y(x) \\times x$ fixando $\\theta$, $v_0$ e $g$"
   ]
  },
  {
   "cell_type": "code",
   "execution_count": null,
   "id": "5a844dd2-dd98-452d-92e5-0d8fd7c3b492",
   "metadata": {
    "editable": true,
    "slideshow": {
     "slide_type": "fragment"
    },
    "tags": []
   },
   "outputs": [],
   "source": [
    "p = plot((y(x, nv0, ntheta, ng/2), (x, 0, alcance(nv0, ntheta, ng/2))), \n",
    "     (y(x, nv0, ntheta, ng), (x, 0, alcance(nv0, ntheta, ng))), \n",
    "     (y(x, nv0, ntheta, 2*ng), (x, 0, alcance(nv0, ntheta, 2*ng))), \n",
    "     title=\"Trajetória de Lançamento de Projétil\", \n",
    "     xlabel=\"x(m)\", ylabel=\"y(m)\", show=False, legend=True);\n",
    "p[0].label = '$(-g) = $' + str(-ng/2) + ' $m/s^2$'\n",
    "p[1].label = '$(-g) = $' + str(-ng) + ' $m/s^2$'\n",
    "p[2].label = '$(-g) = $' + str(-2*ng) + ' $m/s^2$'\n",
    "p.show()"
   ]
  }
 ],
 "metadata": {
  "kernelspec": {
   "display_name": "Python 3 (ipykernel)",
   "language": "python",
   "name": "python3"
  },
  "language_info": {
   "codemirror_mode": {
    "name": "ipython",
    "version": 3
   },
   "file_extension": ".py",
   "mimetype": "text/x-python",
   "name": "python",
   "nbconvert_exporter": "python",
   "pygments_lexer": "ipython3",
   "version": "3.12.7"
  },
  "toc-autonumbering": false,
  "toc-showcode": false,
  "toc-showmarkdowntxt": false,
  "toc-showtags": false
 },
 "nbformat": 4,
 "nbformat_minor": 5
}
