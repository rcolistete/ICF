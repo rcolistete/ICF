{
 "cells": [
  {
   "cell_type": "markdown",
   "id": "3f33b40b-ce64-482e-9252-683e79d5119f",
   "metadata": {},
   "source": [
    "# <div style=\"text-align:center; color:blue\">Aula de 21/02/2025</div>\n",
    "## <div style=\"text-align:center\">Disciplina <a href=\"https://github.com/rcolistete/ICF\">\"Introdução à Computação em Física\" (ICF)</a> da UFES/Alegre</div>\n",
    "## <div style=\"text-align:center; color:red\">Curso de Licenciatura em Física - 2024/2</div>\n",
    "### <center>Autoria : Prof. [Roberto Colistete Jr.](https://github.com/rcolistete), em 02/2025</center>"
   ]
  },
  {
   "cell_type": "markdown",
   "id": "5ad51da4-4dde-4553-89bb-cdea062b8d7e",
   "metadata": {},
   "source": [
    "## Análise de Oscilador Amortecido via Python e SymPy"
   ]
  },
  {
   "cell_type": "markdown",
   "id": "9de0cfe5-b793-4eba-8bdd-ef4ba9c5de28",
   "metadata": {},
   "source": [
    "Equação de movimento do oscilador amortecido :\n",
    "$$x(t)=A\\exp\\left(\\frac{-b\\,t}{2\\,m}\\right) \\cos(\\omega\\,t)$$\n",
    "Constantes : $A = 5\\,m$, $b = 2,0\\,kg/s$, $m = 30 \\,kg$, $\\omega = (\\pi/4)\\,rad/s$."
   ]
  },
  {
   "cell_type": "markdown",
   "id": "de8eec69-d4e8-49c3-b16f-34e3024e5013",
   "metadata": {},
   "source": [
    "### Inicialização de SymPy"
   ]
  },
  {
   "cell_type": "code",
   "execution_count": null,
   "id": "8b1e43a0-cbfe-4163-ac28-26f2677e5f3a",
   "metadata": {},
   "outputs": [],
   "source": [
    "from sympy import *"
   ]
  },
  {
   "cell_type": "code",
   "execution_count": null,
   "id": "b4c81d93-3fdb-4920-b1b3-dc54cd5c92f5",
   "metadata": {},
   "outputs": [],
   "source": [
    "A, b, omega, m, t = symbols('A b omega m t')"
   ]
  },
  {
   "cell_type": "markdown",
   "id": "a36fdc03-d7e5-469c-9b36-26f2cf548e09",
   "metadata": {},
   "source": [
    "### 1) Funções e gráficos para $x(t)$"
   ]
  },
  {
   "cell_type": "code",
   "execution_count": null,
   "id": "b9a186b7-a0ea-42c0-a3ef-fee18c5ca2b1",
   "metadata": {},
   "outputs": [],
   "source": [
    "def posicao(A, b, m, omega, t):\n",
    "    return A*exp(-b*t/(2*m))*cos(omega*t)"
   ]
  },
  {
   "cell_type": "code",
   "execution_count": null,
   "id": "1df38c9a-8692-4e8f-8e41-9f46128d766b",
   "metadata": {},
   "outputs": [],
   "source": [
    "posicao(A, b, m, omega, t)"
   ]
  },
  {
   "cell_type": "code",
   "execution_count": null,
   "id": "aa13a8ce",
   "metadata": {},
   "outputs": [],
   "source": [
    "posicao(5, 2, 30, pi/4, 4.2)"
   ]
  },
  {
   "cell_type": "code",
   "execution_count": null,
   "id": "3d08f372",
   "metadata": {},
   "outputs": [],
   "source": [
    "N(_)"
   ]
  },
  {
   "cell_type": "markdown",
   "id": "4aa105c0-4cdf-4448-b379-7b42fafe0d23",
   "metadata": {},
   "source": [
    "Variando numericamente um parâmetro, p. e., $m$, via um loop `for` com [\"list comprehension\"](https://docs.python.org/2/tutorial/datastructures.html#list-comprehensions) :"
   ]
  },
  {
   "cell_type": "code",
   "execution_count": null,
   "id": "99f4a805-d5fc-47d8-8757-95cfff5ea7d1",
   "metadata": {},
   "outputs": [],
   "source": [
    "[N(posicao(5, 2, v, pi/4, 4.2)) for v in range(10, 100, 10)]"
   ]
  },
  {
   "cell_type": "markdown",
   "id": "5698043c-22b1-4bde-8356-468fd5f2a14b",
   "metadata": {},
   "source": [
    "**Exercício** : varie numericamente o parâmetro $b$, via um loop `for` com \"list comprehension\"."
   ]
  },
  {
   "cell_type": "code",
   "execution_count": null,
   "id": "56004d8a-98c5-4016-b777-2c3e39a332e0",
   "metadata": {},
   "outputs": [],
   "source": []
  },
  {
   "cell_type": "code",
   "execution_count": null,
   "id": "effa522c",
   "metadata": {},
   "outputs": [],
   "source": [
    "def grafico_posicao(A, b, m, omega, tf):\n",
    "    plot(posicao(A, b, m, omega, t), (t, 0, tf), \n",
    "         xlabel='t(s)', ylabel='x(m)', \n",
    "         title='Posição do Oscilador Amortecido');"
   ]
  },
  {
   "cell_type": "code",
   "execution_count": null,
   "id": "782b35c8-c663-4e6c-8f8b-258b8dda8dbe",
   "metadata": {},
   "outputs": [],
   "source": [
    "grafico_posicao(5, 2, 30, pi/4, 50);"
   ]
  },
  {
   "cell_type": "markdown",
   "id": "d3df2fdd-2115-4d9d-8c6a-656ae7f56e06",
   "metadata": {},
   "source": [
    "Variando numericamente o parâmetro $b$ via um loop `for` para gráfico da posição :"
   ]
  },
  {
   "cell_type": "code",
   "execution_count": null,
   "id": "65ee8f7e-41be-47c7-9353-9d865698dbae",
   "metadata": {},
   "outputs": [],
   "source": [
    "for vb in range(1, 11, 2):\n",
    "    print(\"b =\", vb, \":\")\n",
    "    grafico_posicao(5, vb, 30, pi/4, 50);"
   ]
  },
  {
   "cell_type": "markdown",
   "id": "2ac26628-d1a2-44e8-afd2-9e0065c3c4f6",
   "metadata": {},
   "source": [
    "**Exercício** : varie numericamente outro parâmetro via um loop `for` para gráfico da posição."
   ]
  },
  {
   "cell_type": "code",
   "execution_count": null,
   "id": "15d06ee2-4777-465e-8be5-34510d985108",
   "metadata": {},
   "outputs": [],
   "source": []
  },
  {
   "cell_type": "markdown",
   "id": "99e982a9-4e40-4890-b358-c2a576b17d4b",
   "metadata": {},
   "source": [
    "### 2) Funções e gráficos para $v(t)$"
   ]
  },
  {
   "cell_type": "code",
   "execution_count": null,
   "id": "27e9ca32",
   "metadata": {},
   "outputs": [],
   "source": [
    "def velocidade(A, b, m, omega, t):\n",
    "    return diff(posicao(A, b, m, omega, t), t)"
   ]
  },
  {
   "cell_type": "code",
   "execution_count": null,
   "id": "684403d8-deac-4834-b95d-f3cd46a1ce3d",
   "metadata": {},
   "outputs": [],
   "source": [
    "velocidade(A, b, m, omega, t)"
   ]
  },
  {
   "cell_type": "markdown",
   "id": "3590b09a-e089-46f8-b65c-73ededf15893",
   "metadata": {},
   "source": [
    "Como `t` é usado como variável independente para a derivada, se for arbitrado diretamente valor numérico para `t` então ocorre erro :"
   ]
  },
  {
   "cell_type": "code",
   "execution_count": null,
   "id": "4992ebf5-9154-46f7-839b-6ff108c20ed7",
   "metadata": {},
   "outputs": [],
   "source": [
    "velocidade(5, 2, 30, pi/4, 4.2)"
   ]
  },
  {
   "cell_type": "markdown",
   "id": "5af1ba35-0af4-488b-8a41-95a83d78fa06",
   "metadata": {},
   "source": [
    "Solução é calcular a velocidade com `t` simbólico e só então substituir o valor, para tanto tem o [método `subs()` de SymPy](https://docs.sympy.org/latest/tutorials/intro-tutorial/basic_operations.html#substitution) :"
   ]
  },
  {
   "cell_type": "code",
   "execution_count": null,
   "id": "537bec3b-d374-48f1-88f1-346b14da6b73",
   "metadata": {},
   "outputs": [],
   "source": [
    "velocidade(5, 2, 30, pi/4, t).subs(t, 4.2)"
   ]
  },
  {
   "cell_type": "code",
   "execution_count": null,
   "id": "6f750218",
   "metadata": {},
   "outputs": [],
   "source": [
    "N(velocidade(5, 2, 30, pi/4, t).subs(t, 4.2))"
   ]
  },
  {
   "cell_type": "code",
   "execution_count": null,
   "id": "de97c1ed-1f1f-4a18-82aa-6658b720890b",
   "metadata": {},
   "outputs": [],
   "source": [
    "def grafico_velocidade(A, b, m, omega, tf):\n",
    "    plot(velocidade(A, b, m, omega, t), (t, 0, tf), \n",
    "         xlabel='t(s)', ylabel='x(m)', \n",
    "         title='Velocidade do Oscilador Amortecido');"
   ]
  },
  {
   "cell_type": "code",
   "execution_count": null,
   "id": "6cd7fc78-d41d-4325-92f0-61b22b41d3a3",
   "metadata": {},
   "outputs": [],
   "source": [
    "grafico_velocidade(5, 2, 30, pi/4, 50)"
   ]
  },
  {
   "cell_type": "markdown",
   "id": "53f611f6-1ce1-42ce-81a6-7fa076753aed",
   "metadata": {},
   "source": [
    "**Exercício** : varie numericamente um parâmetro via um loop `for` para gráfico da velocidade."
   ]
  },
  {
   "cell_type": "code",
   "execution_count": null,
   "id": "786a9b90-735b-4d3c-96d2-016cfa4fc441",
   "metadata": {},
   "outputs": [],
   "source": []
  },
  {
   "cell_type": "markdown",
   "id": "3df8af22-50f9-4cd5-9732-55d288dd3d44",
   "metadata": {},
   "source": [
    "### 3) Funções e gráficos para $a(t)$"
   ]
  },
  {
   "cell_type": "markdown",
   "id": "029dbc76-77c4-48c7-9ed9-d828b4150617",
   "metadata": {},
   "source": [
    "**Exercício** : análogo a $v(t)$."
   ]
  },
  {
   "cell_type": "code",
   "execution_count": null,
   "id": "6158b9cd-e2b5-4479-8956-6b8cca31a532",
   "metadata": {},
   "outputs": [],
   "source": []
  },
  {
   "cell_type": "code",
   "execution_count": null,
   "id": "ac5b1f69-5f86-4067-81f6-d9ab76e487e8",
   "metadata": {},
   "outputs": [],
   "source": []
  },
  {
   "cell_type": "code",
   "execution_count": null,
   "id": "d1ca3034-57c4-400c-b45f-a343f091f20f",
   "metadata": {},
   "outputs": [],
   "source": []
  },
  {
   "cell_type": "code",
   "execution_count": null,
   "id": "1b5af736-ad17-40b3-9204-5e8257858e9d",
   "metadata": {},
   "outputs": [],
   "source": []
  },
  {
   "cell_type": "code",
   "execution_count": null,
   "id": "78d96494-b594-4fd4-b136-3e4ab2b86478",
   "metadata": {},
   "outputs": [],
   "source": []
  },
  {
   "cell_type": "code",
   "execution_count": null,
   "id": "acb41d8d-24aa-4f37-97dc-342872ac6230",
   "metadata": {},
   "outputs": [],
   "source": []
  },
  {
   "cell_type": "markdown",
   "id": "e88d1463-472e-4de2-8c92-386fe955f0da",
   "metadata": {},
   "source": [
    "### 4) Gráficos para $x(t)$, $v(t)$ e $a(t)$"
   ]
  },
  {
   "cell_type": "markdown",
   "id": "31954aea-6710-4ae8-9aa7-22c3861f436f",
   "metadata": {},
   "source": [
    "**Exercício** : crie uma só uma função que faça os 4 gráficos de $x(t)$, $v(t)$, $a(t)$ e da energia cinética $K = m\\,v^2/2$, praticando para diferentes valores via loop `for`."
   ]
  },
  {
   "cell_type": "code",
   "execution_count": null,
   "id": "323e6d04-b6bb-4be2-8768-ae8125da4f15",
   "metadata": {},
   "outputs": [],
   "source": []
  },
  {
   "cell_type": "code",
   "execution_count": null,
   "id": "3bcc6b36-cee2-4b6b-9759-1bc93adfaea0",
   "metadata": {},
   "outputs": [],
   "source": []
  },
  {
   "cell_type": "code",
   "execution_count": null,
   "id": "311e80cc-ab9f-4126-acbe-75fbdfe7237f",
   "metadata": {},
   "outputs": [],
   "source": []
  },
  {
   "cell_type": "code",
   "execution_count": null,
   "id": "518e25d7-1506-4ffb-84c9-78b07982c1fa",
   "metadata": {},
   "outputs": [],
   "source": []
  },
  {
   "cell_type": "code",
   "execution_count": null,
   "id": "f987545b-d73b-4f48-be08-1e4a525bf18b",
   "metadata": {},
   "outputs": [],
   "source": []
  },
  {
   "cell_type": "code",
   "execution_count": null,
   "id": "4834fb94-58de-4a27-a7d1-29d60249b30d",
   "metadata": {},
   "outputs": [],
   "source": []
  }
 ],
 "metadata": {
  "kernelspec": {
   "display_name": "Python 3 (ipykernel)",
   "language": "python",
   "name": "python3"
  },
  "language_info": {
   "codemirror_mode": {
    "name": "ipython",
    "version": 3
   },
   "file_extension": ".py",
   "mimetype": "text/x-python",
   "name": "python",
   "nbconvert_exporter": "python",
   "pygments_lexer": "ipython3",
   "version": "3.12.6"
  },
  "toc-autonumbering": false,
  "toc-showcode": false,
  "toc-showmarkdowntxt": false,
  "toc-showtags": false
 },
 "nbformat": 4,
 "nbformat_minor": 5
}
