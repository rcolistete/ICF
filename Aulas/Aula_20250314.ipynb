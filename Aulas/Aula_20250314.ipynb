{
 "cells": [
  {
   "cell_type": "markdown",
   "id": "3f33b40b-ce64-482e-9252-683e79d5119f",
   "metadata": {},
   "source": [
    "# <div style=\"text-align:center; color:blue\">Aula de 14/03/2025</div>\n",
    "## <div style=\"text-align:center\">Disciplina <a href=\"https://github.com/rcolistete/ICF\">\"Introdução à Computação em Física\" (ICF)</a> da UFES/Alegre</div>\n",
    "## <div style=\"text-align:center; color:red\">Curso de Licenciatura em Física - 2024/2</div>\n",
    "### <center>Autoria : Prof. [Roberto Colistete Jr.](https://github.com/rcolistete), em 03/2025</center>"
   ]
  },
  {
   "cell_type": "markdown",
   "id": "74333d22-7dfd-4ead-8cf9-8ac565a8cc27",
   "metadata": {},
   "source": [
    "## Gráficos de Seções Cônicas e Quádricas de Geometria Analítica"
   ]
  },
  {
   "cell_type": "markdown",
   "id": "a90cd158-f4f8-4a52-bbaa-95e6e537bfce",
   "metadata": {
    "jp-MarkdownHeadingCollapsed": true
   },
   "source": [
    "### Carregando SymPy"
   ]
  },
  {
   "cell_type": "code",
   "execution_count": null,
   "id": "2275589a-9542-4132-b209-f16dac126268",
   "metadata": {},
   "outputs": [],
   "source": [
    "from sympy import *"
   ]
  },
  {
   "cell_type": "code",
   "execution_count": null,
   "id": "35ab0ca0-477b-4ee7-b573-36a396f57210",
   "metadata": {},
   "outputs": [],
   "source": [
    "from sympy import __version__; print(__version__)"
   ]
  },
  {
   "cell_type": "markdown",
   "id": "d78ef91a-70c4-4672-9d24-6b75cde4c4e2",
   "metadata": {
    "jp-MarkdownHeadingCollapsed": true
   },
   "source": [
    "### Gráfico Paramétrico :"
   ]
  },
  {
   "cell_type": "markdown",
   "id": "efc4eaae-e481-4f4a-bfe4-ffdadd2c2d1f",
   "metadata": {},
   "source": [
    "SymPy sempre exige a definição dos símbolos a serem usados :"
   ]
  },
  {
   "cell_type": "code",
   "execution_count": null,
   "id": "8642e490-2b6e-447c-9f26-177b5640d669",
   "metadata": {},
   "outputs": [],
   "source": [
    "x, y, a, b, t = symbols(\"x y a b t\")"
   ]
  },
  {
   "cell_type": "markdown",
   "id": "151471a9-584e-49b0-a20c-4a8ac0593d9a",
   "metadata": {},
   "source": [
    "#### Circunferência na forma paramétrica, $C:[x=cos(t), y=sin(t)]$ :"
   ]
  },
  {
   "cell_type": "code",
   "execution_count": null,
   "id": "2fae79de-09e6-4aea-b0ee-65b165494491",
   "metadata": {},
   "outputs": [],
   "source": [
    "plot_parametric(cos(t), sin(t), (t, 0, 2*pi), \n",
    "                title=u\"Circunferência paramétrica\", \n",
    "                xlabel=\"x\", ylabel=\"y\");"
   ]
  },
  {
   "cell_type": "markdown",
   "id": "d5506718-6675-4841-85b4-975829d3b7ff",
   "metadata": {},
   "source": [
    "Com opções para a circunferência não ficar achatada :"
   ]
  },
  {
   "cell_type": "code",
   "execution_count": null,
   "id": "9c612d41-4db2-44bd-aaf8-746930308d91",
   "metadata": {},
   "outputs": [],
   "source": [
    "plot_parametric(cos(t), sin(t), (t, 0, 2*pi), \n",
    "                xlim=(-1.5, 1.5), ylim=(-1.1, 1.1), \n",
    "                title=u\"Circunferência paramétrica\", \n",
    "                xlabel=\"x\", ylabel=\"y\");"
   ]
  },
  {
   "cell_type": "code",
   "execution_count": null,
   "id": "e13fb4cf-788e-4097-90a9-a910ee9d6ebf",
   "metadata": {},
   "outputs": [],
   "source": [
    "plot_parametric(cos(t), sin(t), (t, 0, 2*pi), \n",
    "                aspect_ratio=(1, 1), \n",
    "                title=u\"Circunferência paramétrica\", \n",
    "                xlabel=\"x\", ylabel=\"y\");"
   ]
  },
  {
   "cell_type": "markdown",
   "id": "0ff57d0c-6ee5-4012-bc38-047165a7431b",
   "metadata": {
    "jp-MarkdownHeadingCollapsed": true
   },
   "source": [
    "### Gráficos Implícitos :"
   ]
  },
  {
   "cell_type": "markdown",
   "id": "2a4173e6-dc24-42f9-9e4b-ffc4e22dbbb8",
   "metadata": {},
   "source": [
    "#### Circunferência na forma implícita, definida em termos da equação $x^2+y^2 = R^2$, onde $R$ é o raio :"
   ]
  },
  {
   "cell_type": "markdown",
   "id": "32b9681a-df9f-4b5a-bbb4-0847d566738c",
   "metadata": {},
   "source": [
    "Circunferência de raio $R=1$ e centrada na origem $(0,0)$ :"
   ]
  },
  {
   "cell_type": "code",
   "execution_count": null,
   "id": "1d0d6f85-ccca-4411-88df-e6e51f11d8b7",
   "metadata": {},
   "outputs": [],
   "source": [
    "plot_implicit(Eq(x**2 + y**2, 1), (x, -1.1, 1.1), (y, -1.1, 1.1), \n",
    "              title=u'Circunferência', \n",
    "              xlabel='x', ylabel='y');"
   ]
  },
  {
   "cell_type": "code",
   "execution_count": null,
   "id": "b60dc6ad-7015-419b-bb92-58694e8e1bc0",
   "metadata": {},
   "outputs": [],
   "source": [
    "plot_implicit(Eq(x**2 + y**2, 1), (x, -1.5, 1.5), (y, -1.1, 1.1), \n",
    "              title=u'Circunferência', xlabel='x', ylabel='y');"
   ]
  },
  {
   "cell_type": "code",
   "execution_count": null,
   "id": "63e97bf1",
   "metadata": {},
   "outputs": [],
   "source": [
    "plot_implicit(Eq(x**2 + y**2, 1), (x, -1.1, 1.1), (y, -1.1, 1.1), \n",
    "              aspect_ratio=(1, 1), title=u'Circunferência', \n",
    "              xlabel='x', ylabel='y');"
   ]
  },
  {
   "cell_type": "markdown",
   "id": "c5007300-dd62-4af2-9597-49e630a8d169",
   "metadata": {},
   "source": [
    "Transformando $x \\Rightarrow (x - a)$ e $y \\Rightarrow (y - b)$, a circunferência tem seu centro transladado para $(a,b)$ :"
   ]
  },
  {
   "cell_type": "code",
   "execution_count": null,
   "id": "25f743a8-b6dd-4b54-b4b6-cb35583f98bc",
   "metadata": {},
   "outputs": [],
   "source": [
    "plot_implicit(Eq((x-2)**2 + y**2, 1), \n",
    "              (x, 0, 3.1), (y, -1.1, 1.1), \n",
    "              title=u'Circunferência fora da origem', \n",
    "              xlabel='x', ylabel='y');"
   ]
  },
  {
   "cell_type": "markdown",
   "id": "ce63309d-f19a-43cf-b8af-7a05023b1a26",
   "metadata": {},
   "source": [
    "#### Elipse na forma implícita, definida em termos da equação $\\frac{x^2}{a^2}+\\frac{y^2}{b^2} = 1$ ou $\\frac{x^2}{b^2}+\\frac{y^2}{a^2} = 1$ onde $a$ é o semi-eixo maior e $b$ é semi-eixo menor :"
   ]
  },
  {
   "cell_type": "markdown",
   "id": "65cb2088-7f98-4227-9394-97d506801919",
   "metadata": {},
   "source": [
    "Elipse centrada na origem $(0,0)$ com semi-eixo maior vertical $a = 3$ e semi-eixo menor horizontal $b = 1$ :"
   ]
  },
  {
   "cell_type": "code",
   "execution_count": null,
   "id": "f7d82f06-b46e-4fc2-906b-6a6b1ad0f672",
   "metadata": {},
   "outputs": [],
   "source": [
    "plot_implicit(Eq(x**2 + y**2/3**2, 1), \n",
    "              (x, -3.5, 3.5), (y, -3.5, 3.5), \n",
    "              title=u'Elipse', xlabel='x', ylabel='y');"
   ]
  },
  {
   "cell_type": "markdown",
   "id": "be137ec6-257a-4cee-8637-6e506c0613df",
   "metadata": {
    "jp-MarkdownHeadingCollapsed": true
   },
   "source": [
    "### Parábola :"
   ]
  },
  {
   "cell_type": "markdown",
   "id": "d57b17d8-6def-41fd-a3ce-27bc3893ddfe",
   "metadata": {},
   "source": [
    "Podemos usar \"plot\" quando a parábola está definida na forma explícita $y = a x^2 + b x + c$ (paralela ao eixo $y$). Aqui uma parábola com vértice V na origem, concavidade para cima ($a > 0$) e eixo vertical :"
   ]
  },
  {
   "cell_type": "code",
   "execution_count": null,
   "id": "73e7daca-2ab0-4c3d-8425-b4bba4e6e11e",
   "metadata": {},
   "outputs": [],
   "source": [
    "plot(x**2, (x, -3, 3),\n",
    "     title=u'Parábola com vértice na origem', \n",
    "     xlabel='x', ylabel='y');"
   ]
  },
  {
   "cell_type": "markdown",
   "id": "a5b40394-c16f-480f-88db-e2e54c43ad8e",
   "metadata": {},
   "source": [
    "Transformando $x \\Rightarrow (x - h)$, a parábola tem seu vértice V transladado para $(h,0)$. Aqui $V=(1,0)$ :"
   ]
  },
  {
   "cell_type": "code",
   "execution_count": null,
   "id": "60d19b18-b9dd-4d61-a77c-c9950c278685",
   "metadata": {},
   "outputs": [],
   "source": [
    "plot((x-1)**2, (x, -2, 4), \n",
    "     title=u'Parábola com vértice em (1,0)', \n",
    "     xlabel='x', ylabel='y');"
   ]
  },
  {
   "cell_type": "markdown",
   "id": "94b24460-c104-4477-b0c3-b8d7950bf685",
   "metadata": {},
   "source": [
    "Usando \"plot_implicit\" para definir a parábola na forma padrão $2 p (y - k) = (x - h)^2$ com eixo vertical e vértice $V=(h,k)$. Aqui o vértice $V=(1,-1)$ e a concavidade é para cima :"
   ]
  },
  {
   "cell_type": "code",
   "execution_count": null,
   "id": "e11ba0e4-cefe-4750-bb5a-b52459b48eba",
   "metadata": {},
   "outputs": [],
   "source": [
    "plot_implicit(Eq((x-1)**2, 4*(y+1)), (x, -2.5, 4.5), (y, -1.5, 2.5), \n",
    "              title=u'Parábola transladada', xlabel='x', ylabel='y');"
   ]
  },
  {
   "cell_type": "markdown",
   "id": "7e356812-17b7-4e2d-9b2a-0aaa693bda7d",
   "metadata": {},
   "source": [
    "Basta mudar o sinal de $p$ para a concavidade da parábola ser para baixo. O vértice $V=(1,1)$ :"
   ]
  },
  {
   "cell_type": "code",
   "execution_count": null,
   "id": "a3b56212-b888-4448-ac45-b4836f5bb8cd",
   "metadata": {},
   "outputs": [],
   "source": [
    "plot_implicit(Eq((x-1)**2, -4*(y-1)), (x, -2.5, 4.5), (y, -2.5, 1.5),  \n",
    "              title=u'Parábola com concavidade para baixo', \n",
    "              xlabel='x', ylabel='y');"
   ]
  },
  {
   "cell_type": "markdown",
   "id": "b0ccf0ac-0094-4119-adab-03490e0d3d5c",
   "metadata": {
    "jp-MarkdownHeadingCollapsed": true
   },
   "source": [
    "### Hipérbole na forma implícita, definida em termos da equação reduzida $\\frac{x^2}{a^2}-\\frac{y^2}{b^2} = 1$ ou $\\frac{-x^2}{b^2}+\\frac{y^2}{a^2} = 1$ :"
   ]
  },
  {
   "cell_type": "markdown",
   "id": "687bafaf-6386-4dff-be6d-cfc20a9f25b6",
   "metadata": {},
   "source": [
    "Hipérbole com eixo real horizontal, centro na origem $(0,0)$, $a = b = 1$ :"
   ]
  },
  {
   "cell_type": "code",
   "execution_count": null,
   "id": "5c5f8b73-3c41-409e-97cd-7069cca75a3f",
   "metadata": {},
   "outputs": [],
   "source": [
    "plot_implicit(Eq(x**2 - y**2, 1), (x, -3.5, 3.5), (y, -3.5, 3.5), \n",
    "              title=u'Hipérbole com eixo real horizontal', \n",
    "              xlabel='x', ylabel='y');"
   ]
  },
  {
   "cell_type": "markdown",
   "id": "1a047918-2245-48b1-9a72-eb163406c226",
   "metadata": {},
   "source": [
    "Hipérbole com eixo real vertical, centro na origem $(0,0)$, $a = 1$ e $b = 2$ :"
   ]
  },
  {
   "cell_type": "code",
   "execution_count": null,
   "id": "b6929645-3025-4c8f-8913-74ec6b11bad9",
   "metadata": {},
   "outputs": [],
   "source": [
    "plot_implicit(Eq(-x**2/2**2 + y**2, 1), (x, -8.5, 8.5), (y, -3.5, 3.5), \n",
    "              title=u'Hipérbole com eixo real vertical', \n",
    "              xlabel='x', ylabel='y');"
   ]
  },
  {
   "cell_type": "markdown",
   "id": "2aa30af5-8266-4414-b5e2-d8d6e5309eca",
   "metadata": {
    "jp-MarkdownHeadingCollapsed": true
   },
   "source": [
    "### Plano e Superfícies Quádricas :"
   ]
  },
  {
   "cell_type": "markdown",
   "id": "8f43b38e-6ebf-4203-97b7-f0b7f415f851",
   "metadata": {},
   "source": [
    "Carregando a função gráfica \"plot3d\" do SymPy que usa MatPlotLib de forma fácil para criar superfícies de funções de 2 variáveis :"
   ]
  },
  {
   "cell_type": "code",
   "execution_count": null,
   "id": "6950e738-dab2-46d9-8edc-5ea08850efd1",
   "metadata": {},
   "outputs": [],
   "source": [
    "from sympy.plotting import plot3d"
   ]
  },
  {
   "cell_type": "markdown",
   "id": "914fd23e-157e-40e1-b91b-0ccc3bd48b1d",
   "metadata": {},
   "source": [
    "Porém com \"plot3D\" somente se pode visualizar planos ou superfícies quádricas definidas com funções explícitas, p. \n",
    "e., $z = f(x,y)$ :"
   ]
  },
  {
   "cell_type": "markdown",
   "id": "705839b0-1dda-45a9-b5b4-f83c1ae01860",
   "metadata": {},
   "source": [
    "#### Plano definido por $z = a x + b y + c$ :"
   ]
  },
  {
   "cell_type": "code",
   "execution_count": null,
   "id": "91bcc0b8-e371-417b-a639-e145fb94b882",
   "metadata": {},
   "outputs": [],
   "source": [
    "plot3d(x + 3*y, (x, -2, 2), (y, -2, 2), \n",
    "       title=u'Plano', xlabel='x', ylabel='y');"
   ]
  },
  {
   "cell_type": "markdown",
   "id": "37d91f5a-0d92-40f3-b82b-28ba0e4fb2b7",
   "metadata": {},
   "source": [
    "#### Esfera"
   ]
  },
  {
   "cell_type": "code",
   "execution_count": null,
   "id": "92d325e9-e6e1-40ba-bd64-e8807e8c5834",
   "metadata": {},
   "outputs": [],
   "source": [
    "from sympy.plotting import plot3d_parametric_surface"
   ]
  },
  {
   "cell_type": "code",
   "execution_count": null,
   "id": "0b03ed24-d19d-4fad-80a9-04895f3703bc",
   "metadata": {},
   "outputs": [],
   "source": [
    "u, v = symbols('u v')"
   ]
  },
  {
   "cell_type": "code",
   "execution_count": null,
   "id": "a8824a57-08ec-4989-81ff-cc324f19dc8f",
   "metadata": {},
   "outputs": [],
   "source": [
    "plot3d_parametric_surface(sin(u)*sin(v), cos(u)*sin(v), cos(v), \n",
    "                          (u, 0, 2*pi), (v, 0, 2*pi), \n",
    "                          title='Esfera', xlabel='x', ylabel='y');"
   ]
  },
  {
   "cell_type": "markdown",
   "id": "c7298925-1374-4120-919d-4a2d32ae7e90",
   "metadata": {},
   "source": [
    "#### Parabolóide Elíptico :"
   ]
  },
  {
   "cell_type": "markdown",
   "id": "f66f2ae1-f0dc-4778-8ba7-42175954b827",
   "metadata": {},
   "source": [
    "O parabolóide elíptico é definido, p. e., por \n",
    "\n",
    "$$\\frac{x^2}{a^2}+\\frac{y^2}{b^2} = c\\; z$$\n",
    "\n",
    "ao longo do eixo $z$. Se $a$ e $b$ são iguais, temos o caso particular de parabolóide circular."
   ]
  },
  {
   "cell_type": "code",
   "execution_count": null,
   "id": "6697ac35-4f8c-4af7-bac1-0959e9bc21d3",
   "metadata": {},
   "outputs": [],
   "source": [
    "plot3d(x**2+y**2/2**2, (x, -2, 2), (y, -4, 4), \n",
    "       title=u'Parabolóide elíptico', \n",
    "       xlabel='x', ylabel='y');"
   ]
  },
  {
   "cell_type": "markdown",
   "id": "14164d4d-3ede-4afa-a1de-0acc0a60ca20",
   "metadata": {},
   "source": [
    "#### Parabolóide Hiperbólico (figura de sela) :"
   ]
  },
  {
   "cell_type": "markdown",
   "id": "559ce865-9ebf-463a-a7c9-934f83f9f210",
   "metadata": {},
   "source": [
    "O parabolóide hiperbólico é definido, p. e., por \n",
    "\n",
    "$$- \\frac{x^2}{a^2} + \\frac{y^2}{b^2} = c\\; z$$\n",
    "\n",
    "ao longo do eixo $z$. "
   ]
  },
  {
   "cell_type": "code",
   "execution_count": null,
   "id": "09d7dc51-8d1a-47a2-bcb0-191b423e7126",
   "metadata": {},
   "outputs": [],
   "source": [
    "plot3d(-x**2+y**2, (x, -2, 2), (y, -2, 2), \n",
    "       title=u'Parabolóide hiperbólico', \n",
    "       xlabel='x', ylabel='y');"
   ]
  },
  {
   "cell_type": "markdown",
   "id": "fefeee75-23bf-4173-a81a-abd64f162a15",
   "metadata": {},
   "source": [
    "## [Módulo Uncertainties](https://pythonhosted.org/uncertainties/) - Propagação de Incertezas"
   ]
  },
  {
   "cell_type": "markdown",
   "id": "a4d748ac-8c12-4669-9843-d73404a295f9",
   "metadata": {
    "jp-MarkdownHeadingCollapsed": true
   },
   "source": [
    "### Instalando o módulo Uncertainties"
   ]
  },
  {
   "cell_type": "markdown",
   "id": "b3150291-578c-41e2-a87a-ce68e72924fe",
   "metadata": {},
   "source": [
    "Instalação do módulo Uncertainties na instalação Anaconda, deve-se usar o comando 'conda' no terminal, vide <https://anaconda.org/conda-forge/uncertainties> :\n",
    "\n",
    "    $ conda install -c conda-forge uncertainties \n",
    "    \n",
    "ou (no Google Colab ou sem Anaconda instalado) :\n",
    "\n",
    "    $ pip install uncertainties"
   ]
  },
  {
   "cell_type": "code",
   "execution_count": null,
   "id": "ee505f2d-6338-4fb9-8a03-68d43cb1d78b",
   "metadata": {
    "colab": {
     "base_uri": "https://localhost:8080/"
    },
    "id": "CqhvYbomWF7Y",
    "outputId": "101ca03c-299c-4dab-9b5d-7659b9da15ea"
   },
   "outputs": [],
   "source": [
    "%pip install --upgrade uncertainties"
   ]
  },
  {
   "cell_type": "markdown",
   "id": "4a350fee-bc6e-46cf-9d4d-2bcafbb1a141",
   "metadata": {
    "jp-MarkdownHeadingCollapsed": true
   },
   "source": [
    "### Uncertainties para escalares com incertezas"
   ]
  },
  {
   "cell_type": "code",
   "execution_count": null,
   "id": "d7d0fe49-4a1d-41c5-94c7-184cdf1919a6",
   "metadata": {
    "id": "iPRBzgV2Usbr"
   },
   "outputs": [],
   "source": [
    "from uncertainties import ufloat"
   ]
  },
  {
   "cell_type": "code",
   "execution_count": null,
   "id": "4d954c91-e07b-4ea4-ac83-2d568f22cbf2",
   "metadata": {
    "id": "WQsx3fzgU7zE"
   },
   "outputs": [],
   "source": [
    "from uncertainties.umath import *"
   ]
  },
  {
   "cell_type": "markdown",
   "id": "0569e17f-2845-401e-a7ee-a1fcd2324e6c",
   "metadata": {
    "id": "e18t5CVMX8Yr"
   },
   "source": [
    "Massa $m$ com incerteza :"
   ]
  },
  {
   "cell_type": "code",
   "execution_count": null,
   "id": "324f60da-a637-4be7-98df-68790585b955",
   "metadata": {
    "id": "G3OWEqpCWtrt"
   },
   "outputs": [],
   "source": [
    "m = ufloat(0.245, 0.017)"
   ]
  },
  {
   "cell_type": "code",
   "execution_count": null,
   "id": "384cddec-d22c-41e8-a3f8-12e52b84bfb4",
   "metadata": {
    "colab": {
     "base_uri": "https://localhost:8080/"
    },
    "id": "2gbEBDXZXKA1",
    "outputId": "58fcccc9-6b5d-4ec0-cdb8-9d0178f599e7"
   },
   "outputs": [],
   "source": [
    "m"
   ]
  },
  {
   "cell_type": "code",
   "execution_count": null,
   "id": "125e35e4-1f0a-45c8-b83e-abfd0a1fb09d",
   "metadata": {
    "colab": {
     "base_uri": "https://localhost:8080/"
    },
    "id": "vXWyswQNXLTz",
    "outputId": "d8c68b3b-40ac-41c5-cde9-890aba3bd184"
   },
   "outputs": [],
   "source": [
    "2*m"
   ]
  },
  {
   "cell_type": "code",
   "execution_count": null,
   "id": "a9f7233e-70b8-4b9b-9fe4-ef1f217e01e7",
   "metadata": {
    "colab": {
     "base_uri": "https://localhost:8080/"
    },
    "id": "N_IgY-Q6XSqm",
    "outputId": "2f484e7c-bfe9-4670-99c0-d9706925638c"
   },
   "outputs": [],
   "source": [
    "m/10"
   ]
  },
  {
   "cell_type": "code",
   "execution_count": null,
   "id": "5a407866-52f0-4db4-8c6a-7cb82da14279",
   "metadata": {},
   "outputs": [],
   "source": [
    "print(m/10)"
   ]
  },
  {
   "cell_type": "markdown",
   "id": "6645c33b-1782-4562-86f4-0f36de80c16e",
   "metadata": {
    "id": "e18t5CVMX8Yr"
   },
   "source": [
    "Valor nominal é via propriedade \".n\" da variável com incerteza :"
   ]
  },
  {
   "cell_type": "code",
   "execution_count": null,
   "id": "e393dec4-f096-43c5-92f2-a9cd9578b62b",
   "metadata": {},
   "outputs": [],
   "source": [
    "m.n"
   ]
  },
  {
   "cell_type": "markdown",
   "id": "3039e8b3-cf30-44a3-b38f-d9b26e81f54f",
   "metadata": {
    "id": "e18t5CVMX8Yr"
   },
   "source": [
    "Incerteza é via propriedade \".s\" da variável com incerteza :"
   ]
  },
  {
   "cell_type": "code",
   "execution_count": null,
   "id": "e84159e3-3afe-4920-91e7-50a5db368d06",
   "metadata": {},
   "outputs": [],
   "source": [
    "m.s"
   ]
  },
  {
   "cell_type": "markdown",
   "id": "188391ab-6726-4023-9d0a-02f70f1cc6fb",
   "metadata": {
    "id": "GMhnj6WnYBOh"
   },
   "source": [
    "Velocidade $v$  com incerteza :"
   ]
  },
  {
   "cell_type": "code",
   "execution_count": null,
   "id": "120962a9-0298-4ac5-add2-83606fdf5c16",
   "metadata": {
    "colab": {
     "base_uri": "https://localhost:8080/"
    },
    "id": "l0EUQ53cXWM2",
    "outputId": "726d4856-820c-48d6-899e-e95af801a45c"
   },
   "outputs": [],
   "source": [
    "v = ufloat(2.04, 0.12); v"
   ]
  },
  {
   "cell_type": "markdown",
   "id": "45af08b7-c7b8-4c4b-8bb0-150a72bc6692",
   "metadata": {
    "id": "9WfCoBbpXz6N"
   },
   "source": [
    "Momento linear $p = m\\,v$, com propagação de incertezas :"
   ]
  },
  {
   "cell_type": "code",
   "execution_count": null,
   "id": "5f42b526-954f-4e59-9faa-7766326aa2c3",
   "metadata": {
    "colab": {
     "base_uri": "https://localhost:8080/"
    },
    "id": "u_wablkXXfbF",
    "outputId": "20c63b7b-b6f6-4ba9-8b57-07302cf29f35"
   },
   "outputs": [],
   "source": [
    "p = m*v; p"
   ]
  },
  {
   "cell_type": "code",
   "execution_count": null,
   "id": "534e9a2d-b9f8-49ec-b469-53b01973781d",
   "metadata": {},
   "outputs": [],
   "source": [
    "print(p)"
   ]
  },
  {
   "cell_type": "markdown",
   "id": "89effe1b-0f9a-4942-858b-80ba5389235f",
   "metadata": {
    "id": "8b813woOYLYG"
   },
   "source": [
    "Energia cinética $E = m\\,v^2/2$, com propagação de incertezas :"
   ]
  },
  {
   "cell_type": "code",
   "execution_count": null,
   "id": "f9f1e719-8335-41b9-a8f5-1792c52af5f8",
   "metadata": {
    "colab": {
     "base_uri": "https://localhost:8080/"
    },
    "id": "w17SETKAXp6c",
    "outputId": "68f1f4cc-b445-4bf4-b9e0-3f883a61e909"
   },
   "outputs": [],
   "source": [
    "K = (m/2)*v**2; K"
   ]
  },
  {
   "cell_type": "code",
   "execution_count": null,
   "id": "2cda522b-80ab-4427-8012-52f604fb6768",
   "metadata": {},
   "outputs": [],
   "source": [
    "print(K)"
   ]
  },
  {
   "cell_type": "markdown",
   "id": "14d5af51-ad48-499b-ab8d-9090e01476da",
   "metadata": {
    "id": "jJzwHEI1ZQFI",
    "jp-MarkdownHeadingCollapsed": true
   },
   "source": [
    "### Uncertainties para vetores com incertezas"
   ]
  },
  {
   "cell_type": "code",
   "execution_count": null,
   "id": "bec65bd3-91b2-4600-919c-4a1ae47de292",
   "metadata": {
    "id": "y3ZqS38LY_VW"
   },
   "outputs": [],
   "source": [
    "from uncertainties import unumpy"
   ]
  },
  {
   "cell_type": "code",
   "execution_count": null,
   "id": "f93d1752-7fb7-462a-9f87-298ce5e2bfe4",
   "metadata": {
    "colab": {
     "base_uri": "https://localhost:8080/"
    },
    "id": "B6i-neWGZaZE",
    "outputId": "0a366976-ba96-42b4-9c9c-2c01e6410007"
   },
   "outputs": [],
   "source": [
    "x = unumpy.uarray([0.099, 0.206, 0.303, 0.407], [0.011, 0.012, 0.013, 0.014]); x"
   ]
  },
  {
   "cell_type": "code",
   "execution_count": null,
   "id": "afc96444-bcd5-4e4f-aa81-a2f6a56651b0",
   "metadata": {
    "colab": {
     "base_uri": "https://localhost:8080/"
    },
    "id": "b2bFXH9JZz58",
    "outputId": "446c0b6c-fe82-47fb-9183-85b4f7d477a8"
   },
   "outputs": [],
   "source": [
    "t = unumpy.uarray([0.054, 0.110, 0.166, 0.220], [0.005, 0.005, 0.005, 0.005]); t"
   ]
  },
  {
   "cell_type": "code",
   "execution_count": null,
   "id": "5038ae2b-61ab-4b30-8d35-c2d2eadb8751",
   "metadata": {
    "colab": {
     "base_uri": "https://localhost:8080/"
    },
    "id": "A2tON3fvZ5WA",
    "outputId": "7152e25f-95ff-4ba8-d437-d79b49bd5cf9"
   },
   "outputs": [],
   "source": [
    "vm = x/t; vm"
   ]
  },
  {
   "cell_type": "code",
   "execution_count": null,
   "id": "f6c7406e-3273-4bce-a6dc-e5b1a9e97e48",
   "metadata": {
    "colab": {
     "base_uri": "https://localhost:8080/"
    },
    "id": "7AZKE3u8cpBC",
    "outputId": "062015a6-299b-4422-cd6a-362a61dacb12"
   },
   "outputs": [],
   "source": [
    "vm[1]"
   ]
  },
  {
   "cell_type": "code",
   "execution_count": null,
   "id": "dd23ad61-ad46-4c94-9546-6224c24df784",
   "metadata": {
    "colab": {
     "base_uri": "https://localhost:8080/"
    },
    "id": "xkBFd-BOc4fH",
    "outputId": "8beadfce-81cc-4814-e719-4b5aded5ff7c"
   },
   "outputs": [],
   "source": [
    "print(vm[1])"
   ]
  },
  {
   "cell_type": "code",
   "execution_count": null,
   "id": "3862ec14-56f8-4f45-b826-db72fa398c3d",
   "metadata": {
    "colab": {
     "base_uri": "https://localhost:8080/"
    },
    "id": "TVz13alNc_pu",
    "outputId": "37bf6838-e022-4178-ab5d-1366de5e0230"
   },
   "outputs": [],
   "source": [
    "for n in vm:\n",
    "  print(n)"
   ]
  },
  {
   "cell_type": "code",
   "execution_count": null,
   "id": "0fa47e2f-17b9-400d-ba85-7c903d319c92",
   "metadata": {},
   "outputs": [],
   "source": []
  }
 ],
 "metadata": {
  "kernelspec": {
   "display_name": "Python 3 (ipykernel)",
   "language": "python",
   "name": "python3"
  },
  "language_info": {
   "codemirror_mode": {
    "name": "ipython",
    "version": 3
   },
   "file_extension": ".py",
   "mimetype": "text/x-python",
   "name": "python",
   "nbconvert_exporter": "python",
   "pygments_lexer": "ipython3",
   "version": "3.12.6"
  },
  "toc-autonumbering": false,
  "toc-showcode": false,
  "toc-showmarkdowntxt": false,
  "toc-showtags": false
 },
 "nbformat": 4,
 "nbformat_minor": 5
}
