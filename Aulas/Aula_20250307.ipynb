{
 "cells": [
  {
   "cell_type": "markdown",
   "id": "3f33b40b-ce64-482e-9252-683e79d5119f",
   "metadata": {},
   "source": [
    "# <div style=\"text-align:center; color:blue\">Aula de 03/07/2025</div>\n",
    "## <div style=\"text-align:center\">Disciplina <a href=\"https://github.com/rcolistete/ICF\">\"Introdução à Computação em Física\" (ICF)</a> da UFES/Alegre</div>\n",
    "## <div style=\"text-align:center; color:red\">Curso de Licenciatura em Física - 2024/2</div>\n",
    "### <center>Autoria : Prof. [Roberto Colistete Jr.](https://github.com/rcolistete), em 03/2025</center>"
   ]
  },
  {
   "cell_type": "markdown",
   "id": "5ad51da4-4dde-4553-89bb-cdea062b8d7e",
   "metadata": {},
   "source": [
    "## Vetores em Python puro : listas em Python puro não são vetores matemáticos"
   ]
  },
  {
   "cell_type": "markdown",
   "id": "de1b2dc7-0981-4d0b-9344-7a6a834e0eaf",
   "metadata": {},
   "source": [
    "Listas são coleção de objetos em Python :"
   ]
  },
  {
   "cell_type": "code",
   "execution_count": null,
   "id": "77e08371-8903-44ea-a813-f68f6370edda",
   "metadata": {},
   "outputs": [],
   "source": [
    "vetor1 = [1,2,3]"
   ]
  },
  {
   "cell_type": "code",
   "execution_count": null,
   "id": "53da7c22-6930-44f6-a1c7-d7ee45668148",
   "metadata": {},
   "outputs": [],
   "source": [
    "vetor1[0]"
   ]
  },
  {
   "cell_type": "code",
   "execution_count": null,
   "id": "4abeb038-fdf9-4280-97e1-0bf126e6e74f",
   "metadata": {},
   "outputs": [],
   "source": [
    "vetor1[1]"
   ]
  },
  {
   "cell_type": "code",
   "execution_count": null,
   "id": "7d261262-b8e9-42ee-89b8-962ea41be8b2",
   "metadata": {},
   "outputs": [],
   "source": [
    "vetor1[0:2]"
   ]
  },
  {
   "cell_type": "code",
   "execution_count": null,
   "id": "5f7121f3-e0fa-4db9-875d-129230a39e03",
   "metadata": {},
   "outputs": [],
   "source": [
    "vetor1[-1]"
   ]
  },
  {
   "cell_type": "code",
   "execution_count": null,
   "id": "8f4b225c-5d7f-4a13-a2c2-629000d0eea5",
   "metadata": {},
   "outputs": [],
   "source": [
    "len(vetor1)"
   ]
  },
  {
   "cell_type": "markdown",
   "id": "9b18a9da-edd4-4ff0-bd29-bf27fc7354a4",
   "metadata": {},
   "source": [
    "\"append\" na verdade é um método do objeto vetor1 que é da classe list. Um pouquinho de OOP (Object Oriented Programming)..."
   ]
  },
  {
   "cell_type": "code",
   "execution_count": null,
   "id": "739d7955-11b2-4cac-a4e5-74dfbb0308ca",
   "metadata": {},
   "outputs": [],
   "source": [
    "vetor1.append(\"ola\")"
   ]
  },
  {
   "cell_type": "code",
   "execution_count": null,
   "id": "a82777b6-8828-4ad1-87ba-cecb8407da2f",
   "metadata": {},
   "outputs": [],
   "source": [
    "vetor1"
   ]
  },
  {
   "cell_type": "markdown",
   "id": "b7cd2d9d-9b5b-4ef9-90c1-239f59c46f05",
   "metadata": {},
   "source": [
    "\"del\" permite apagar elementos de uma lista :"
   ]
  },
  {
   "cell_type": "code",
   "execution_count": null,
   "id": "0b42897e-3319-455d-94a7-711ec0a0252c",
   "metadata": {},
   "outputs": [],
   "source": [
    "del vetor1[-1]"
   ]
  },
  {
   "cell_type": "code",
   "execution_count": null,
   "id": "55e54ec0-ff7b-4610-b841-0036ec8286a6",
   "metadata": {},
   "outputs": [],
   "source": [
    "vetor1"
   ]
  },
  {
   "cell_type": "markdown",
   "id": "98eb8501-3151-49c6-bed4-ab389ecf33e1",
   "metadata": {},
   "source": [
    "Listas são usadas pela estrutura de repetição \"for\" :"
   ]
  },
  {
   "cell_type": "code",
   "execution_count": null,
   "id": "d829af4e-ccc3-4ce2-a8ba-adb4cebf0963",
   "metadata": {},
   "outputs": [],
   "source": [
    "for i in vetor1:\n",
    "    print 2**i"
   ]
  },
  {
   "cell_type": "markdown",
   "id": "52f03d94-1b70-4bcb-b46d-98882fcffab3",
   "metadata": {},
   "source": [
    "Mas listas não se comportam como vetores matemáticos :"
   ]
  },
  {
   "cell_type": "code",
   "execution_count": null,
   "id": "9354a008-d948-49e2-ac4e-198069d18639",
   "metadata": {},
   "outputs": [],
   "source": [
    "1 + vetor1"
   ]
  },
  {
   "cell_type": "code",
   "execution_count": null,
   "id": "3042ec13-b8c0-4245-a66e-753e9f086f98",
   "metadata": {},
   "outputs": [],
   "source": [
    "vetor1 + vetor1"
   ]
  },
  {
   "cell_type": "code",
   "execution_count": null,
   "id": "667cc27b-e632-4bf7-b013-3f6175713b56",
   "metadata": {},
   "outputs": [],
   "source": [
    "vetor1 * 3"
   ]
  },
  {
   "cell_type": "markdown",
   "id": "74c2c869-07b6-416c-b5d1-cf11d0080df1",
   "metadata": {},
   "source": [
    "## Vetores em Python com NumPy para vetores numéricos"
   ]
  },
  {
   "cell_type": "markdown",
   "id": "8cbcb26f-4236-4a80-b6e2-2c82fc6ab123",
   "metadata": {},
   "source": [
    "Com NumPy temos \"array\" que permite definir vetores (e matrizes, etc) matemáticos, incluindo produto escalar, etc. A limitação é que só para valores numéricos."
   ]
  },
  {
   "cell_type": "code",
   "execution_count": null,
   "id": "a92c1036-52b5-4cc0-b507-d876df75209b",
   "metadata": {},
   "outputs": [],
   "source": [
    "import numpy as np"
   ]
  },
  {
   "cell_type": "markdown",
   "id": "e7fe90e4-6dbf-498a-b32a-d4b0688d482b",
   "metadata": {},
   "source": [
    "A função \"array\" do NumPy define um vetor numérico :"
   ]
  },
  {
   "cell_type": "code",
   "execution_count": null,
   "id": "2e56510c-1755-4edb-afb2-02d0bea0380a",
   "metadata": {},
   "outputs": [],
   "source": [
    "vetor2 = np.array([1, 2, 3])"
   ]
  },
  {
   "cell_type": "code",
   "execution_count": null,
   "id": "57504251-c2c1-4c67-9855-2d12aebeaf50",
   "metadata": {},
   "outputs": [],
   "source": [
    "vetor2"
   ]
  },
  {
   "cell_type": "code",
   "execution_count": null,
   "id": "c9e979b6-a0c0-4845-8272-ccc23d9a5846",
   "metadata": {},
   "outputs": [],
   "source": [
    "vetor2[0]"
   ]
  },
  {
   "cell_type": "code",
   "execution_count": null,
   "id": "9b3e1396-8b88-4725-8640-1bae40dc32f8",
   "metadata": {},
   "outputs": [],
   "source": [
    "1 + vetor2"
   ]
  },
  {
   "cell_type": "code",
   "execution_count": null,
   "id": "02628c13-f817-44e3-8505-b5f66e0454dd",
   "metadata": {},
   "outputs": [],
   "source": [
    "vetor2"
   ]
  },
  {
   "cell_type": "code",
   "execution_count": null,
   "id": "677a0bcb-c240-403a-9829-5073d81acff2",
   "metadata": {},
   "outputs": [],
   "source": [
    "vetor2 + vetor2"
   ]
  },
  {
   "cell_type": "code",
   "execution_count": null,
   "id": "1d540b79-64ec-4113-8cd1-d6503f914ff0",
   "metadata": {},
   "outputs": [],
   "source": [
    "vetor2 * 3"
   ]
  },
  {
   "cell_type": "code",
   "execution_count": null,
   "id": "5390c081-2555-4b07-926e-165dd0e18b5e",
   "metadata": {},
   "outputs": [],
   "source": [
    "vetor2**2"
   ]
  },
  {
   "cell_type": "code",
   "execution_count": null,
   "id": "fe001987-3ff7-45f7-9e14-037f39784160",
   "metadata": {},
   "outputs": [],
   "source": [
    "np.sin(vetor2)"
   ]
  },
  {
   "cell_type": "code",
   "execution_count": null,
   "id": "752634c1-f080-48a9-ad5a-941e0e5060fb",
   "metadata": {},
   "outputs": [],
   "source": [
    "vetor3 = np.array([4, 5, 6])"
   ]
  },
  {
   "cell_type": "markdown",
   "id": "d3f275b3-a499-4a4d-865d-b7dba1a0d89c",
   "metadata": {},
   "source": [
    "Produto escalar (interno) é via função \"dot\" do NumPy :"
   ]
  },
  {
   "cell_type": "code",
   "execution_count": null,
   "id": "c8b3207f-e75f-49e0-969e-8a3a7524e7d5",
   "metadata": {},
   "outputs": [],
   "source": [
    "np.dot(vetor2, vetor3)"
   ]
  },
  {
   "cell_type": "code",
   "execution_count": null,
   "id": "d3426fca-8947-4e30-9c6c-40896d92ea2a",
   "metadata": {},
   "outputs": [],
   "source": [
    "np.sqrt(np.dot(vetor2, vetor2))"
   ]
  },
  {
   "cell_type": "code",
   "execution_count": null,
   "id": "c67eea1f-9f7f-4777-b5d1-a747f6df1cc2",
   "metadata": {},
   "outputs": [],
   "source": [
    "np.linalg.norm(vetor2)"
   ]
  },
  {
   "cell_type": "markdown",
   "id": "2b593cf2-3fae-4122-8997-2ea11a25e86c",
   "metadata": {},
   "source": [
    "O produto via \"*\" não é produto escalar, e sim o produto de termo a termo de cada vetor :"
   ]
  },
  {
   "cell_type": "code",
   "execution_count": null,
   "id": "4098895d-0a15-4f0a-8ae8-21411e5cf7b5",
   "metadata": {},
   "outputs": [],
   "source": [
    "vetor2*vetor3"
   ]
  },
  {
   "cell_type": "markdown",
   "id": "856dd939-dfb2-4875-9d53-f3484eb60a11",
   "metadata": {},
   "source": [
    "Produto vetorial é via função \"cross\" do NumPy :"
   ]
  },
  {
   "cell_type": "code",
   "execution_count": null,
   "id": "9e8cc0fa-9994-4860-8433-cf6981626a8b",
   "metadata": {},
   "outputs": [],
   "source": [
    "np.cross(vetor2, vetor3)"
   ]
  },
  {
   "cell_type": "code",
   "execution_count": null,
   "id": "10dcfe92-b933-46be-ad60-ef6fa84d54f5",
   "metadata": {},
   "outputs": [],
   "source": [
    "np.cross(vetor2, vetor2)"
   ]
  },
  {
   "cell_type": "markdown",
   "id": "7cbbf049-ea41-4da1-b48d-edc89608c766",
   "metadata": {},
   "source": [
    "## Vetores em Python com SymPy para vetores numéricos e simbólicos"
   ]
  },
  {
   "cell_type": "code",
   "execution_count": null,
   "id": "8e2e2a65-8b26-4ab8-a172-99ad1148f006",
   "metadata": {},
   "outputs": [],
   "source": [
    "from sympy import *"
   ]
  },
  {
   "cell_type": "markdown",
   "id": "888b5bc5-d200-4472-ba0c-eeb971531d62",
   "metadata": {},
   "source": [
    "Função \"Matrix\" define um vetor (que é um caso específico de uma matriz, aqui um vetor coluna 3x1) :"
   ]
  },
  {
   "cell_type": "code",
   "execution_count": null,
   "id": "e50f1230-35b3-4684-bcfb-e6e01edf97f1",
   "metadata": {},
   "outputs": [],
   "source": [
    "vetor4 = Matrix(3,1,[1,2,3])"
   ]
  },
  {
   "cell_type": "code",
   "execution_count": null,
   "id": "cd7808ff-cf11-4d53-9d67-2c6556c26da7",
   "metadata": {},
   "outputs": [],
   "source": [
    "vetor4"
   ]
  },
  {
   "cell_type": "code",
   "execution_count": null,
   "id": "91aff25b-bff6-4753-b9aa-25d969caaf6c",
   "metadata": {},
   "outputs": [],
   "source": [
    "init_printing()"
   ]
  },
  {
   "cell_type": "code",
   "execution_count": null,
   "id": "fa24b81e-a8e2-46dd-848b-3b9b0480182e",
   "metadata": {},
   "outputs": [],
   "source": [
    "vetor4"
   ]
  },
  {
   "cell_type": "markdown",
   "id": "b9574ec9-68d5-4e81-a1d3-e2fffc8f9911",
   "metadata": {},
   "source": [
    "\"dot\" é um método do vetor para calcular o produto escalar :"
   ]
  },
  {
   "cell_type": "code",
   "execution_count": null,
   "id": "04ccf6a8-6565-4b69-a0bd-2ab8412d5e75",
   "metadata": {},
   "outputs": [],
   "source": [
    "vetor4.dot(vetor4)"
   ]
  },
  {
   "cell_type": "markdown",
   "id": "2ea0dea0-9628-4727-98e7-f58861136a87",
   "metadata": {},
   "source": [
    "\"cross\" é um método do vetor para calcular o produto vetorial :"
   ]
  },
  {
   "cell_type": "code",
   "execution_count": null,
   "id": "60088d0d-8bd8-4b98-9326-19757fe128c7",
   "metadata": {},
   "outputs": [],
   "source": [
    "vetor4.cross(vetor4)"
   ]
  },
  {
   "cell_type": "markdown",
   "id": "ffa905f1-aae8-4d4a-9096-30a4c2e16a6e",
   "metadata": {},
   "source": [
    "Vetores com elementos simbólicos :"
   ]
  },
  {
   "cell_type": "code",
   "execution_count": null,
   "id": "0ca06aee-5353-4200-afaa-4ab763ea0cd7",
   "metadata": {},
   "outputs": [],
   "source": [
    "t, R, omega = symbols(\"t, R, omega\")"
   ]
  },
  {
   "cell_type": "markdown",
   "id": "3c17cf9e-e2b8-4cac-a2ad-f56f8328dc64",
   "metadata": {},
   "source": [
    "Vetor posição de um movimento circular uniforme em 2D :"
   ]
  },
  {
   "cell_type": "code",
   "execution_count": null,
   "id": "77af8836-545c-46c1-b422-628e4100b1b4",
   "metadata": {},
   "outputs": [],
   "source": [
    "r = Matrix(2,1,[R*cos(omega*t),R*sin(omega*t)])"
   ]
  },
  {
   "cell_type": "code",
   "execution_count": null,
   "id": "3c150159-6dae-4820-b320-ecd1c2790214",
   "metadata": {},
   "outputs": [],
   "source": [
    "r"
   ]
  },
  {
   "cell_type": "code",
   "execution_count": null,
   "id": "8a16c087-5682-4cff-9f8d-153a2e7818c3",
   "metadata": {},
   "outputs": [],
   "source": [
    "r.dot(r)"
   ]
  },
  {
   "cell_type": "code",
   "execution_count": null,
   "id": "043cb34d-d245-4473-8658-cd220f094dc8",
   "metadata": {},
   "outputs": [],
   "source": [
    "simplify(r.dot(r))"
   ]
  },
  {
   "cell_type": "markdown",
   "id": "55fd5b1d-5f6c-44e1-8f2a-95c82992db2a",
   "metadata": {},
   "source": [
    "Vetor velocidade é a derivada do vetor posição em relação ao tempo t, onde \"diff\" é um método do vetor :"
   ]
  },
  {
   "cell_type": "code",
   "execution_count": null,
   "id": "a355f4cb-d1e0-4c04-a71d-d9f6b6b26ac1",
   "metadata": {},
   "outputs": [],
   "source": [
    "v = r.diff(t); v"
   ]
  },
  {
   "cell_type": "code",
   "execution_count": null,
   "id": "def48001-f196-446f-bab2-6443642a931a",
   "metadata": {},
   "outputs": [],
   "source": [
    "simplify(v.dot(v))"
   ]
  },
  {
   "cell_type": "markdown",
   "id": "c3c8b69c-c5e8-4f33-91db-72d11e21586b",
   "metadata": {},
   "source": [
    "Vetor posição r é ortogonal ao vetor velocidade v :"
   ]
  },
  {
   "cell_type": "code",
   "execution_count": null,
   "id": "a9b8cf7f-df96-4119-979c-54b09f01ef5b",
   "metadata": {},
   "outputs": [],
   "source": [
    "r.dot(v)"
   ]
  },
  {
   "cell_type": "markdown",
   "id": "d2157bf4-5218-4c9b-8d96-b4294e811c56",
   "metadata": {},
   "source": [
    "Vetor aceleração é a derivada do vetor velocidade em relação ao tempo t :"
   ]
  },
  {
   "cell_type": "code",
   "execution_count": null,
   "id": "9a0c480b-2953-4ec2-810f-3ca86970dbb7",
   "metadata": {},
   "outputs": [],
   "source": [
    "a = v.diff(t); a"
   ]
  },
  {
   "cell_type": "code",
   "execution_count": null,
   "id": "bfea1649-fd8c-46d2-a67c-0033fbbeaa2b",
   "metadata": {},
   "outputs": [],
   "source": [
    "simplify(a.dot(a))"
   ]
  },
  {
   "cell_type": "markdown",
   "id": "94b53a5f-9c87-4272-ace6-41e4752c09ce",
   "metadata": {},
   "source": [
    "Ou seja, $a = v^2/R$ :"
   ]
  },
  {
   "cell_type": "code",
   "execution_count": null,
   "id": "34e27049-0a5c-4673-9a18-a91eeb5f4cc4",
   "metadata": {},
   "outputs": [],
   "source": [
    "simplify(v.dot(v))/R"
   ]
  },
  {
   "cell_type": "markdown",
   "id": "733a93dc-f312-4cdc-b9f8-ee911f5d033b",
   "metadata": {},
   "source": [
    "Vetor velocidade v é ortogonal ao vetor aceleração a :"
   ]
  },
  {
   "cell_type": "code",
   "execution_count": null,
   "id": "5ba9d3a7-ff01-419b-8328-05c0a1849f4b",
   "metadata": {},
   "outputs": [],
   "source": [
    "v.dot(a)"
   ]
  }
 ],
 "metadata": {
  "kernelspec": {
   "display_name": "Python 3 (ipykernel)",
   "language": "python",
   "name": "python3"
  },
  "language_info": {
   "codemirror_mode": {
    "name": "ipython",
    "version": 3
   },
   "file_extension": ".py",
   "mimetype": "text/x-python",
   "name": "python",
   "nbconvert_exporter": "python",
   "pygments_lexer": "ipython3",
   "version": "3.12.6"
  },
  "toc-autonumbering": false,
  "toc-showcode": false,
  "toc-showmarkdowntxt": false,
  "toc-showtags": false
 },
 "nbformat": 4,
 "nbformat_minor": 5
}
